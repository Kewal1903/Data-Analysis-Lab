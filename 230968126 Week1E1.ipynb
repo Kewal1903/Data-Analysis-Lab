{
 "cells": [
  {
   "cell_type": "markdown",
   "id": "7ffba3ba",
   "metadata": {},
   "source": [
    "# 230968126 Exercise 1 "
   ]
  },
  {
   "cell_type": "markdown",
   "id": "88d570d0",
   "metadata": {},
   "source": [
    "Name :- Kewal Thacker, Section :- A, Batch 1"
   ]
  },
  {
   "cell_type": "markdown",
   "id": "75cdc3bc",
   "metadata": {},
   "source": [
    "EXERCISE 1: - Introduction to Pandas\n",
    "Data frame creation and manipulation"
   ]
  },
  {
   "cell_type": "markdown",
   "id": "f8dc9019",
   "metadata": {},
   "source": [
    "1. Create a data frame with details of 10 students and columns as Roll Number, Name, \n",
    "Gender, Marks1, Marks2, Marks3."
   ]
  },
  {
   "cell_type": "code",
   "execution_count": 2,
   "id": "797cfedb",
   "metadata": {},
   "outputs": [
    {
     "name": "stdout",
     "output_type": "stream",
     "text": [
      "   Roll Number Name  Gender  Marks1  Marks2  Marks3\n",
      "0            1    A    Male      80      90      54\n",
      "1            2    B  Female      83      45      27\n",
      "2            3    C    Male      76      23      10\n",
      "3            4    D  Female      14      67      75\n",
      "4            5    E    Male      45      92      97\n",
      "5            6    F  Female      76      12      54\n",
      "6            7    G    Male      98      53      76\n",
      "7            8    H  Female      64      64      99\n",
      "8            9    I    Male      23      76      56\n",
      "9           10    J  Female      63      96      88\n"
     ]
    }
   ],
   "source": [
    "import pandas as pd\n",
    "rnos = [1,2,3,4,5,6,7,8,9,10]\n",
    "names = [\"A\",\"B\",\"C\",\"D\",\"E\",\"F\",\"G\",\"H\",\"I\",\"J\"]\n",
    "genders = [\"Male\",\"Female\",\"Male\",\"Female\",\"Male\",\"Female\",\"Male\",\"Female\",\"Male\",\"Female\"]\n",
    "mks1 = [80,83,76,14,45,76,98,64,23,63]\n",
    "mks2 = [90,45,23,67,92,12,53,64,76,96]\n",
    "mks3 = [54,27,10,75,97,54,76,99,56,88]\n",
    "dict1 = {\"Roll Number\":rnos,\"Name\":names,\"Gender\":genders,\"Marks1\":mks1,\"Marks2\":mks2,\"Marks3\":mks3}\n",
    "df1 = pd.DataFrame(dict1)\n",
    "print(df1)"
   ]
  },
  {
   "cell_type": "markdown",
   "id": "fa05ce5a",
   "metadata": {},
   "source": [
    "2. Create a new column with total marks\n"
   ]
  },
  {
   "cell_type": "code",
   "execution_count": 3,
   "id": "ba1666f5",
   "metadata": {},
   "outputs": [
    {
     "name": "stdout",
     "output_type": "stream",
     "text": [
      "   Roll Number Name  Gender  Marks1  Marks2  Marks3  TotalMarks\n",
      "0            1    A    Male      80      90      54         224\n",
      "1            2    B  Female      83      45      27         155\n",
      "2            3    C    Male      76      23      10         109\n",
      "3            4    D  Female      14      67      75         156\n",
      "4            5    E    Male      45      92      97         234\n",
      "5            6    F  Female      76      12      54         142\n",
      "6            7    G    Male      98      53      76         227\n",
      "7            8    H  Female      64      64      99         227\n",
      "8            9    I    Male      23      76      56         155\n",
      "9           10    J  Female      63      96      88         247\n"
     ]
    }
   ],
   "source": [
    "df1[\"TotalMarks\"] = df1[\"Marks1\"] + df1[\"Marks2\"] + df1[\"Marks3\"]\n",
    "print(df1)"
   ]
  },
  {
   "cell_type": "markdown",
   "id": "97407218",
   "metadata": {},
   "source": [
    "3. Find the lowest marks in Marks1"
   ]
  },
  {
   "cell_type": "code",
   "execution_count": 5,
   "id": "e04ae0d1",
   "metadata": {},
   "outputs": [
    {
     "name": "stdout",
     "output_type": "stream",
     "text": [
      "The lowest marks in Marks1 are 14\n"
     ]
    }
   ],
   "source": [
    "print(\"The lowest marks in Marks1 are\",df1[\"Marks1\"].min())"
   ]
  },
  {
   "cell_type": "markdown",
   "id": "f2cce142",
   "metadata": {},
   "source": [
    "4. Find the Highest marks in Marks2"
   ]
  },
  {
   "cell_type": "code",
   "execution_count": 6,
   "id": "d73cfe13",
   "metadata": {},
   "outputs": [
    {
     "name": "stdout",
     "output_type": "stream",
     "text": [
      "The highest marks in Marks2 are 96\n"
     ]
    }
   ],
   "source": [
    "print(\"The highest marks in Marks2 are\",df1[\"Marks2\"].max())"
   ]
  },
  {
   "cell_type": "markdown",
   "id": "0685776f",
   "metadata": {},
   "source": [
    "5. Find the average marks in Marks3"
   ]
  },
  {
   "cell_type": "code",
   "execution_count": 7,
   "id": "404ed060",
   "metadata": {},
   "outputs": [
    {
     "name": "stdout",
     "output_type": "stream",
     "text": [
      "The average marks in Marks3 are 63.6\n"
     ]
    }
   ],
   "source": [
    "print(\"The average marks in Marks3 are\",df1[\"Marks3\"].mean())"
   ]
  },
  {
   "cell_type": "markdown",
   "id": "bd5fd9f4",
   "metadata": {},
   "source": [
    "6. Find student name with highest average\n"
   ]
  },
  {
   "cell_type": "code",
   "execution_count": 11,
   "id": "3e85a7d2",
   "metadata": {},
   "outputs": [
    {
     "name": "stdout",
     "output_type": "stream",
     "text": [
      "Student with the highest average is J\n"
     ]
    }
   ],
   "source": [
    "highest_average_row = df1.loc[df1[\"TotalMarks\"].idxmax()]\n",
    "name = highest_average_row[\"Name\"]\n",
    "print(\"Student with the highest average is\",name)"
   ]
  },
  {
   "cell_type": "markdown",
   "id": "7b06fdef",
   "metadata": {},
   "source": [
    "7. Find how many students failed in Marks2 (<40)"
   ]
  },
  {
   "cell_type": "code",
   "execution_count": 12,
   "id": "24c90245",
   "metadata": {},
   "outputs": [
    {
     "name": "stdout",
     "output_type": "stream",
     "text": [
      "The number of students having marks below 40 are 2\n"
     ]
    }
   ],
   "source": [
    "print(\"The number of students having marks below 40 are\",df1[df1[\"Marks2\"]<40].shape[0])"
   ]
  },
  {
   "cell_type": "code",
   "execution_count": null,
   "id": "1f30c4f4",
   "metadata": {},
   "outputs": [],
   "source": []
  }
 ],
 "metadata": {
  "kernelspec": {
   "display_name": "Python 3 (ipykernel)",
   "language": "python",
   "name": "python3"
  },
  "language_info": {
   "codemirror_mode": {
    "name": "ipython",
    "version": 3
   },
   "file_extension": ".py",
   "mimetype": "text/x-python",
   "name": "python",
   "nbconvert_exporter": "python",
   "pygments_lexer": "ipython3",
   "version": "3.9.12"
  }
 },
 "nbformat": 4,
 "nbformat_minor": 5
}

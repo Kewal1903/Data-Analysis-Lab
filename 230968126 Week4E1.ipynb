{
 "cells": [
  {
   "cell_type": "markdown",
   "id": "38184b38",
   "metadata": {},
   "source": [
    "# 230968126 Week 4 Exercise 1"
   ]
  },
  {
   "cell_type": "markdown",
   "id": "0ee58528",
   "metadata": {},
   "source": [
    "Name :- Kewal Thacker, Section A, Batch 1"
   ]
  },
  {
   "cell_type": "markdown",
   "id": "5e889e28",
   "metadata": {},
   "source": [
    "EXERCISE 1: Data Analysis using CEREALS dataset\n",
    "Use the prepared or preprocessed data to answer the following:"
   ]
  },
  {
   "cell_type": "code",
   "execution_count": 1,
   "id": "e04185fd",
   "metadata": {},
   "outputs": [
    {
     "data": {
      "text/html": [
       "<div>\n",
       "<style scoped>\n",
       "    .dataframe tbody tr th:only-of-type {\n",
       "        vertical-align: middle;\n",
       "    }\n",
       "\n",
       "    .dataframe tbody tr th {\n",
       "        vertical-align: top;\n",
       "    }\n",
       "\n",
       "    .dataframe thead th {\n",
       "        text-align: right;\n",
       "    }\n",
       "</style>\n",
       "<table border=\"1\" class=\"dataframe\">\n",
       "  <thead>\n",
       "    <tr style=\"text-align: right;\">\n",
       "      <th></th>\n",
       "      <th>name</th>\n",
       "      <th>mfr</th>\n",
       "      <th>type</th>\n",
       "      <th>calories</th>\n",
       "      <th>protein</th>\n",
       "      <th>fat</th>\n",
       "      <th>sodium</th>\n",
       "      <th>fiber</th>\n",
       "      <th>carbo</th>\n",
       "      <th>sugars</th>\n",
       "      <th>potass</th>\n",
       "      <th>vitamins</th>\n",
       "      <th>shelf</th>\n",
       "      <th>weight</th>\n",
       "      <th>cups</th>\n",
       "      <th>rating</th>\n",
       "    </tr>\n",
       "  </thead>\n",
       "  <tbody>\n",
       "    <tr>\n",
       "      <th>0</th>\n",
       "      <td>100%_Natural_Bran</td>\n",
       "      <td>Q</td>\n",
       "      <td>C</td>\n",
       "      <td>120</td>\n",
       "      <td>3</td>\n",
       "      <td>5</td>\n",
       "      <td>15</td>\n",
       "      <td>2.0</td>\n",
       "      <td>8.0</td>\n",
       "      <td>8</td>\n",
       "      <td>135</td>\n",
       "      <td>0</td>\n",
       "      <td>3</td>\n",
       "      <td>1.0</td>\n",
       "      <td>1.00</td>\n",
       "      <td>33.983679</td>\n",
       "    </tr>\n",
       "    <tr>\n",
       "      <th>1</th>\n",
       "      <td>All-Bran</td>\n",
       "      <td>K</td>\n",
       "      <td>C</td>\n",
       "      <td>70</td>\n",
       "      <td>4</td>\n",
       "      <td>1</td>\n",
       "      <td>260</td>\n",
       "      <td>9.0</td>\n",
       "      <td>7.0</td>\n",
       "      <td>5</td>\n",
       "      <td>320</td>\n",
       "      <td>25</td>\n",
       "      <td>3</td>\n",
       "      <td>1.0</td>\n",
       "      <td>0.33</td>\n",
       "      <td>59.425505</td>\n",
       "    </tr>\n",
       "    <tr>\n",
       "      <th>2</th>\n",
       "      <td>All-Bran_with_Extra_Fiber</td>\n",
       "      <td>K</td>\n",
       "      <td>C</td>\n",
       "      <td>50</td>\n",
       "      <td>4</td>\n",
       "      <td>0</td>\n",
       "      <td>140</td>\n",
       "      <td>14.0</td>\n",
       "      <td>8.0</td>\n",
       "      <td>0</td>\n",
       "      <td>330</td>\n",
       "      <td>25</td>\n",
       "      <td>3</td>\n",
       "      <td>1.0</td>\n",
       "      <td>0.50</td>\n",
       "      <td>93.704912</td>\n",
       "    </tr>\n",
       "    <tr>\n",
       "      <th>3</th>\n",
       "      <td>Almond_Delight</td>\n",
       "      <td>R</td>\n",
       "      <td>C</td>\n",
       "      <td>110</td>\n",
       "      <td>2</td>\n",
       "      <td>2</td>\n",
       "      <td>200</td>\n",
       "      <td>1.0</td>\n",
       "      <td>14.0</td>\n",
       "      <td>8</td>\n",
       "      <td>-1</td>\n",
       "      <td>25</td>\n",
       "      <td>3</td>\n",
       "      <td>1.0</td>\n",
       "      <td>0.75</td>\n",
       "      <td>34.384843</td>\n",
       "    </tr>\n",
       "    <tr>\n",
       "      <th>4</th>\n",
       "      <td>Apple_Cinnamon_Cheerios</td>\n",
       "      <td>G</td>\n",
       "      <td>C</td>\n",
       "      <td>110</td>\n",
       "      <td>2</td>\n",
       "      <td>2</td>\n",
       "      <td>180</td>\n",
       "      <td>1.5</td>\n",
       "      <td>10.5</td>\n",
       "      <td>10</td>\n",
       "      <td>70</td>\n",
       "      <td>25</td>\n",
       "      <td>1</td>\n",
       "      <td>1.0</td>\n",
       "      <td>0.75</td>\n",
       "      <td>29.509541</td>\n",
       "    </tr>\n",
       "    <tr>\n",
       "      <th>...</th>\n",
       "      <td>...</td>\n",
       "      <td>...</td>\n",
       "      <td>...</td>\n",
       "      <td>...</td>\n",
       "      <td>...</td>\n",
       "      <td>...</td>\n",
       "      <td>...</td>\n",
       "      <td>...</td>\n",
       "      <td>...</td>\n",
       "      <td>...</td>\n",
       "      <td>...</td>\n",
       "      <td>...</td>\n",
       "      <td>...</td>\n",
       "      <td>...</td>\n",
       "      <td>...</td>\n",
       "      <td>...</td>\n",
       "    </tr>\n",
       "    <tr>\n",
       "      <th>71</th>\n",
       "      <td>Triples</td>\n",
       "      <td>G</td>\n",
       "      <td>C</td>\n",
       "      <td>110</td>\n",
       "      <td>2</td>\n",
       "      <td>1</td>\n",
       "      <td>250</td>\n",
       "      <td>0.0</td>\n",
       "      <td>21.0</td>\n",
       "      <td>3</td>\n",
       "      <td>60</td>\n",
       "      <td>25</td>\n",
       "      <td>3</td>\n",
       "      <td>1.0</td>\n",
       "      <td>0.75</td>\n",
       "      <td>39.106174</td>\n",
       "    </tr>\n",
       "    <tr>\n",
       "      <th>72</th>\n",
       "      <td>Trix</td>\n",
       "      <td>G</td>\n",
       "      <td>C</td>\n",
       "      <td>110</td>\n",
       "      <td>1</td>\n",
       "      <td>1</td>\n",
       "      <td>140</td>\n",
       "      <td>0.0</td>\n",
       "      <td>13.0</td>\n",
       "      <td>12</td>\n",
       "      <td>25</td>\n",
       "      <td>25</td>\n",
       "      <td>2</td>\n",
       "      <td>1.0</td>\n",
       "      <td>1.00</td>\n",
       "      <td>27.753301</td>\n",
       "    </tr>\n",
       "    <tr>\n",
       "      <th>73</th>\n",
       "      <td>Wheat_Chex</td>\n",
       "      <td>R</td>\n",
       "      <td>C</td>\n",
       "      <td>100</td>\n",
       "      <td>3</td>\n",
       "      <td>1</td>\n",
       "      <td>230</td>\n",
       "      <td>3.0</td>\n",
       "      <td>17.0</td>\n",
       "      <td>3</td>\n",
       "      <td>115</td>\n",
       "      <td>25</td>\n",
       "      <td>1</td>\n",
       "      <td>1.0</td>\n",
       "      <td>0.67</td>\n",
       "      <td>49.787445</td>\n",
       "    </tr>\n",
       "    <tr>\n",
       "      <th>74</th>\n",
       "      <td>Wheaties</td>\n",
       "      <td>G</td>\n",
       "      <td>C</td>\n",
       "      <td>100</td>\n",
       "      <td>3</td>\n",
       "      <td>1</td>\n",
       "      <td>200</td>\n",
       "      <td>3.0</td>\n",
       "      <td>17.0</td>\n",
       "      <td>3</td>\n",
       "      <td>110</td>\n",
       "      <td>25</td>\n",
       "      <td>1</td>\n",
       "      <td>1.0</td>\n",
       "      <td>1.00</td>\n",
       "      <td>51.592193</td>\n",
       "    </tr>\n",
       "    <tr>\n",
       "      <th>75</th>\n",
       "      <td>Wheaties_Honey_Gold</td>\n",
       "      <td>G</td>\n",
       "      <td>C</td>\n",
       "      <td>110</td>\n",
       "      <td>2</td>\n",
       "      <td>1</td>\n",
       "      <td>200</td>\n",
       "      <td>1.0</td>\n",
       "      <td>16.0</td>\n",
       "      <td>8</td>\n",
       "      <td>60</td>\n",
       "      <td>25</td>\n",
       "      <td>1</td>\n",
       "      <td>1.0</td>\n",
       "      <td>0.75</td>\n",
       "      <td>36.187559</td>\n",
       "    </tr>\n",
       "  </tbody>\n",
       "</table>\n",
       "<p>76 rows × 16 columns</p>\n",
       "</div>"
      ],
      "text/plain": [
       "                         name mfr type  calories  protein  fat  sodium  fiber  \\\n",
       "0           100%_Natural_Bran   Q    C       120        3    5      15    2.0   \n",
       "1                    All-Bran   K    C        70        4    1     260    9.0   \n",
       "2   All-Bran_with_Extra_Fiber   K    C        50        4    0     140   14.0   \n",
       "3              Almond_Delight   R    C       110        2    2     200    1.0   \n",
       "4     Apple_Cinnamon_Cheerios   G    C       110        2    2     180    1.5   \n",
       "..                        ...  ..  ...       ...      ...  ...     ...    ...   \n",
       "71                    Triples   G    C       110        2    1     250    0.0   \n",
       "72                       Trix   G    C       110        1    1     140    0.0   \n",
       "73                 Wheat_Chex   R    C       100        3    1     230    3.0   \n",
       "74                   Wheaties   G    C       100        3    1     200    3.0   \n",
       "75        Wheaties_Honey_Gold   G    C       110        2    1     200    1.0   \n",
       "\n",
       "    carbo  sugars  potass  vitamins  shelf  weight  cups     rating  \n",
       "0     8.0       8     135         0      3     1.0  1.00  33.983679  \n",
       "1     7.0       5     320        25      3     1.0  0.33  59.425505  \n",
       "2     8.0       0     330        25      3     1.0  0.50  93.704912  \n",
       "3    14.0       8      -1        25      3     1.0  0.75  34.384843  \n",
       "4    10.5      10      70        25      1     1.0  0.75  29.509541  \n",
       "..    ...     ...     ...       ...    ...     ...   ...        ...  \n",
       "71   21.0       3      60        25      3     1.0  0.75  39.106174  \n",
       "72   13.0      12      25        25      2     1.0  1.00  27.753301  \n",
       "73   17.0       3     115        25      1     1.0  0.67  49.787445  \n",
       "74   17.0       3     110        25      1     1.0  1.00  51.592193  \n",
       "75   16.0       8      60        25      1     1.0  0.75  36.187559  \n",
       "\n",
       "[76 rows x 16 columns]"
      ]
     },
     "execution_count": 1,
     "metadata": {},
     "output_type": "execute_result"
    }
   ],
   "source": [
    "import matplotlib.pyplot as plt\n",
    "import seaborn as sns\n",
    "import numpy as np\n",
    "import pandas as pd\n",
    "\n",
    "cereals = pd.read_excel(\"D:\\\\230968126_Kewal\\\\Week2\\\\Cereals1.xls\")\n",
    "df = pd.DataFrame(cereals)\n",
    "df"
   ]
  },
  {
   "cell_type": "code",
   "execution_count": 2,
   "id": "5404011b",
   "metadata": {},
   "outputs": [
    {
     "name": "stderr",
     "output_type": "stream",
     "text": [
      "C:\\Users\\mca\\AppData\\Local\\Temp\\ipykernel_5932\\1313191345.py:2: FutureWarning: Dropping of nuisance columns in DataFrame reductions (with 'numeric_only=None') is deprecated; in a future version this will raise TypeError.  Select only valid columns before calling the reduction.\n",
      "  df.fillna(df.median(),inplace=True)\n"
     ]
    },
    {
     "data": {
      "text/html": [
       "<div>\n",
       "<style scoped>\n",
       "    .dataframe tbody tr th:only-of-type {\n",
       "        vertical-align: middle;\n",
       "    }\n",
       "\n",
       "    .dataframe tbody tr th {\n",
       "        vertical-align: top;\n",
       "    }\n",
       "\n",
       "    .dataframe thead th {\n",
       "        text-align: right;\n",
       "    }\n",
       "</style>\n",
       "<table border=\"1\" class=\"dataframe\">\n",
       "  <thead>\n",
       "    <tr style=\"text-align: right;\">\n",
       "      <th></th>\n",
       "      <th>name</th>\n",
       "      <th>mfr</th>\n",
       "      <th>type</th>\n",
       "      <th>calories</th>\n",
       "      <th>protein</th>\n",
       "      <th>fat</th>\n",
       "      <th>sodium</th>\n",
       "      <th>fiber</th>\n",
       "      <th>carbo</th>\n",
       "      <th>sugars</th>\n",
       "      <th>potass</th>\n",
       "      <th>vitamins</th>\n",
       "      <th>shelf</th>\n",
       "      <th>weight</th>\n",
       "      <th>cups</th>\n",
       "      <th>rating</th>\n",
       "    </tr>\n",
       "  </thead>\n",
       "  <tbody>\n",
       "    <tr>\n",
       "      <th>0</th>\n",
       "      <td>100%_Natural_Bran</td>\n",
       "      <td>Q</td>\n",
       "      <td>C</td>\n",
       "      <td>120</td>\n",
       "      <td>3</td>\n",
       "      <td>5</td>\n",
       "      <td>15</td>\n",
       "      <td>2.0</td>\n",
       "      <td>8.0</td>\n",
       "      <td>8.0</td>\n",
       "      <td>135.0</td>\n",
       "      <td>0</td>\n",
       "      <td>3</td>\n",
       "      <td>1.0</td>\n",
       "      <td>1.00</td>\n",
       "      <td>33.983679</td>\n",
       "    </tr>\n",
       "    <tr>\n",
       "      <th>1</th>\n",
       "      <td>All-Bran</td>\n",
       "      <td>K</td>\n",
       "      <td>C</td>\n",
       "      <td>70</td>\n",
       "      <td>4</td>\n",
       "      <td>1</td>\n",
       "      <td>260</td>\n",
       "      <td>9.0</td>\n",
       "      <td>7.0</td>\n",
       "      <td>5.0</td>\n",
       "      <td>320.0</td>\n",
       "      <td>25</td>\n",
       "      <td>3</td>\n",
       "      <td>1.0</td>\n",
       "      <td>0.33</td>\n",
       "      <td>59.425505</td>\n",
       "    </tr>\n",
       "    <tr>\n",
       "      <th>2</th>\n",
       "      <td>All-Bran_with_Extra_Fiber</td>\n",
       "      <td>K</td>\n",
       "      <td>C</td>\n",
       "      <td>50</td>\n",
       "      <td>4</td>\n",
       "      <td>0</td>\n",
       "      <td>140</td>\n",
       "      <td>14.0</td>\n",
       "      <td>8.0</td>\n",
       "      <td>0.0</td>\n",
       "      <td>330.0</td>\n",
       "      <td>25</td>\n",
       "      <td>3</td>\n",
       "      <td>1.0</td>\n",
       "      <td>0.50</td>\n",
       "      <td>93.704912</td>\n",
       "    </tr>\n",
       "    <tr>\n",
       "      <th>3</th>\n",
       "      <td>Almond_Delight</td>\n",
       "      <td>R</td>\n",
       "      <td>C</td>\n",
       "      <td>110</td>\n",
       "      <td>2</td>\n",
       "      <td>2</td>\n",
       "      <td>200</td>\n",
       "      <td>1.0</td>\n",
       "      <td>14.0</td>\n",
       "      <td>8.0</td>\n",
       "      <td>90.0</td>\n",
       "      <td>25</td>\n",
       "      <td>3</td>\n",
       "      <td>1.0</td>\n",
       "      <td>0.75</td>\n",
       "      <td>34.384843</td>\n",
       "    </tr>\n",
       "    <tr>\n",
       "      <th>4</th>\n",
       "      <td>Apple_Cinnamon_Cheerios</td>\n",
       "      <td>G</td>\n",
       "      <td>C</td>\n",
       "      <td>110</td>\n",
       "      <td>2</td>\n",
       "      <td>2</td>\n",
       "      <td>180</td>\n",
       "      <td>1.5</td>\n",
       "      <td>10.5</td>\n",
       "      <td>10.0</td>\n",
       "      <td>70.0</td>\n",
       "      <td>25</td>\n",
       "      <td>1</td>\n",
       "      <td>1.0</td>\n",
       "      <td>0.75</td>\n",
       "      <td>29.509541</td>\n",
       "    </tr>\n",
       "    <tr>\n",
       "      <th>...</th>\n",
       "      <td>...</td>\n",
       "      <td>...</td>\n",
       "      <td>...</td>\n",
       "      <td>...</td>\n",
       "      <td>...</td>\n",
       "      <td>...</td>\n",
       "      <td>...</td>\n",
       "      <td>...</td>\n",
       "      <td>...</td>\n",
       "      <td>...</td>\n",
       "      <td>...</td>\n",
       "      <td>...</td>\n",
       "      <td>...</td>\n",
       "      <td>...</td>\n",
       "      <td>...</td>\n",
       "      <td>...</td>\n",
       "    </tr>\n",
       "    <tr>\n",
       "      <th>71</th>\n",
       "      <td>Triples</td>\n",
       "      <td>G</td>\n",
       "      <td>C</td>\n",
       "      <td>110</td>\n",
       "      <td>2</td>\n",
       "      <td>1</td>\n",
       "      <td>250</td>\n",
       "      <td>0.0</td>\n",
       "      <td>21.0</td>\n",
       "      <td>3.0</td>\n",
       "      <td>60.0</td>\n",
       "      <td>25</td>\n",
       "      <td>3</td>\n",
       "      <td>1.0</td>\n",
       "      <td>0.75</td>\n",
       "      <td>39.106174</td>\n",
       "    </tr>\n",
       "    <tr>\n",
       "      <th>72</th>\n",
       "      <td>Trix</td>\n",
       "      <td>G</td>\n",
       "      <td>C</td>\n",
       "      <td>110</td>\n",
       "      <td>1</td>\n",
       "      <td>1</td>\n",
       "      <td>140</td>\n",
       "      <td>0.0</td>\n",
       "      <td>13.0</td>\n",
       "      <td>12.0</td>\n",
       "      <td>25.0</td>\n",
       "      <td>25</td>\n",
       "      <td>2</td>\n",
       "      <td>1.0</td>\n",
       "      <td>1.00</td>\n",
       "      <td>27.753301</td>\n",
       "    </tr>\n",
       "    <tr>\n",
       "      <th>73</th>\n",
       "      <td>Wheat_Chex</td>\n",
       "      <td>R</td>\n",
       "      <td>C</td>\n",
       "      <td>100</td>\n",
       "      <td>3</td>\n",
       "      <td>1</td>\n",
       "      <td>230</td>\n",
       "      <td>3.0</td>\n",
       "      <td>17.0</td>\n",
       "      <td>3.0</td>\n",
       "      <td>115.0</td>\n",
       "      <td>25</td>\n",
       "      <td>1</td>\n",
       "      <td>1.0</td>\n",
       "      <td>0.67</td>\n",
       "      <td>49.787445</td>\n",
       "    </tr>\n",
       "    <tr>\n",
       "      <th>74</th>\n",
       "      <td>Wheaties</td>\n",
       "      <td>G</td>\n",
       "      <td>C</td>\n",
       "      <td>100</td>\n",
       "      <td>3</td>\n",
       "      <td>1</td>\n",
       "      <td>200</td>\n",
       "      <td>3.0</td>\n",
       "      <td>17.0</td>\n",
       "      <td>3.0</td>\n",
       "      <td>110.0</td>\n",
       "      <td>25</td>\n",
       "      <td>1</td>\n",
       "      <td>1.0</td>\n",
       "      <td>1.00</td>\n",
       "      <td>51.592193</td>\n",
       "    </tr>\n",
       "    <tr>\n",
       "      <th>75</th>\n",
       "      <td>Wheaties_Honey_Gold</td>\n",
       "      <td>G</td>\n",
       "      <td>C</td>\n",
       "      <td>110</td>\n",
       "      <td>2</td>\n",
       "      <td>1</td>\n",
       "      <td>200</td>\n",
       "      <td>1.0</td>\n",
       "      <td>16.0</td>\n",
       "      <td>8.0</td>\n",
       "      <td>60.0</td>\n",
       "      <td>25</td>\n",
       "      <td>1</td>\n",
       "      <td>1.0</td>\n",
       "      <td>0.75</td>\n",
       "      <td>36.187559</td>\n",
       "    </tr>\n",
       "  </tbody>\n",
       "</table>\n",
       "<p>76 rows × 16 columns</p>\n",
       "</div>"
      ],
      "text/plain": [
       "                         name mfr type  calories  protein  fat  sodium  fiber  \\\n",
       "0           100%_Natural_Bran   Q    C       120        3    5      15    2.0   \n",
       "1                    All-Bran   K    C        70        4    1     260    9.0   \n",
       "2   All-Bran_with_Extra_Fiber   K    C        50        4    0     140   14.0   \n",
       "3              Almond_Delight   R    C       110        2    2     200    1.0   \n",
       "4     Apple_Cinnamon_Cheerios   G    C       110        2    2     180    1.5   \n",
       "..                        ...  ..  ...       ...      ...  ...     ...    ...   \n",
       "71                    Triples   G    C       110        2    1     250    0.0   \n",
       "72                       Trix   G    C       110        1    1     140    0.0   \n",
       "73                 Wheat_Chex   R    C       100        3    1     230    3.0   \n",
       "74                   Wheaties   G    C       100        3    1     200    3.0   \n",
       "75        Wheaties_Honey_Gold   G    C       110        2    1     200    1.0   \n",
       "\n",
       "    carbo  sugars  potass  vitamins  shelf  weight  cups     rating  \n",
       "0     8.0     8.0   135.0         0      3     1.0  1.00  33.983679  \n",
       "1     7.0     5.0   320.0        25      3     1.0  0.33  59.425505  \n",
       "2     8.0     0.0   330.0        25      3     1.0  0.50  93.704912  \n",
       "3    14.0     8.0    90.0        25      3     1.0  0.75  34.384843  \n",
       "4    10.5    10.0    70.0        25      1     1.0  0.75  29.509541  \n",
       "..    ...     ...     ...       ...    ...     ...   ...        ...  \n",
       "71   21.0     3.0    60.0        25      3     1.0  0.75  39.106174  \n",
       "72   13.0    12.0    25.0        25      2     1.0  1.00  27.753301  \n",
       "73   17.0     3.0   115.0        25      1     1.0  0.67  49.787445  \n",
       "74   17.0     3.0   110.0        25      1     1.0  1.00  51.592193  \n",
       "75   16.0     8.0    60.0        25      1     1.0  0.75  36.187559  \n",
       "\n",
       "[76 rows x 16 columns]"
      ]
     },
     "execution_count": 2,
     "metadata": {},
     "output_type": "execute_result"
    }
   ],
   "source": [
    "df.replace(-1,np.nan,inplace=True)\n",
    "df.fillna(df.median(),inplace=True)\n",
    "df"
   ]
  },
  {
   "cell_type": "markdown",
   "id": "c68cae20",
   "metadata": {},
   "source": [
    "1. Cross tabulate the type of cereal (hot vs cold) against the manufacturer"
   ]
  },
  {
   "cell_type": "code",
   "execution_count": 3,
   "id": "c5a5587f",
   "metadata": {},
   "outputs": [
    {
     "name": "stdout",
     "output_type": "stream",
     "text": [
      "Crosstab of type of cereal vs manufacturer:- \n"
     ]
    },
    {
     "data": {
      "text/html": [
       "<div>\n",
       "<style scoped>\n",
       "    .dataframe tbody tr th:only-of-type {\n",
       "        vertical-align: middle;\n",
       "    }\n",
       "\n",
       "    .dataframe tbody tr th {\n",
       "        vertical-align: top;\n",
       "    }\n",
       "\n",
       "    .dataframe thead th {\n",
       "        text-align: right;\n",
       "    }\n",
       "</style>\n",
       "<table border=\"1\" class=\"dataframe\">\n",
       "  <thead>\n",
       "    <tr style=\"text-align: right;\">\n",
       "      <th>mfr</th>\n",
       "      <th>A</th>\n",
       "      <th>G</th>\n",
       "      <th>K</th>\n",
       "      <th>N</th>\n",
       "      <th>P</th>\n",
       "      <th>Q</th>\n",
       "      <th>R</th>\n",
       "    </tr>\n",
       "  </thead>\n",
       "  <tbody>\n",
       "    <tr>\n",
       "      <th>Cold</th>\n",
       "      <td>0</td>\n",
       "      <td>22</td>\n",
       "      <td>23</td>\n",
       "      <td>4</td>\n",
       "      <td>9</td>\n",
       "      <td>7</td>\n",
       "      <td>8</td>\n",
       "    </tr>\n",
       "    <tr>\n",
       "      <th>Hot</th>\n",
       "      <td>1</td>\n",
       "      <td>0</td>\n",
       "      <td>0</td>\n",
       "      <td>1</td>\n",
       "      <td>0</td>\n",
       "      <td>1</td>\n",
       "      <td>0</td>\n",
       "    </tr>\n",
       "  </tbody>\n",
       "</table>\n",
       "</div>"
      ],
      "text/plain": [
       "mfr   A   G   K  N  P  Q  R\n",
       "Cold  0  22  23  4  9  7  8\n",
       "Hot   1   0   0  1  0  1  0"
      ]
     },
     "execution_count": 3,
     "metadata": {},
     "output_type": "execute_result"
    }
   ],
   "source": [
    "print(\"Crosstab of type of cereal vs manufacturer:- \")\n",
    "crosstab = pd.crosstab(df[\"type\"],df[\"mfr\"])\n",
    "crosstab.index = [\"Cold\",\"Hot\"]\n",
    "crosstab"
   ]
  },
  {
   "cell_type": "markdown",
   "id": "8b663691",
   "metadata": {},
   "source": [
    "2. Which is the cereal with the best rating, worst rating?"
   ]
  },
  {
   "cell_type": "code",
   "execution_count": 4,
   "id": "1a78cbf8",
   "metadata": {},
   "outputs": [
    {
     "name": "stdout",
     "output_type": "stream",
     "text": [
      "Cereal with best rating is:  All-Bran_with_Extra_Fiber\n",
      "Cereal with worst rating is:  Cap'n'Crunch\n"
     ]
    }
   ],
   "source": [
    "best_cereal = df.loc[df[\"rating\"].idxmax()]\n",
    "name1 = best_cereal[\"name\"]\n",
    "print(\"Cereal with best rating is: \",name1)\n",
    "worst_cereal = df.loc[df[\"rating\"].idxmin()]\n",
    "name2 = worst_cereal[\"name\"]\n",
    "print(\"Cereal with worst rating is: \",name2)"
   ]
  },
  {
   "cell_type": "markdown",
   "id": "a7ee793c",
   "metadata": {},
   "source": [
    "3. Plot a side-by-side boxplot comparing the consumer rating of hot vs. cold cereals. "
   ]
  },
  {
   "cell_type": "code",
   "execution_count": 5,
   "id": "0e53f7da",
   "metadata": {},
   "outputs": [
    {
     "name": "stdout",
     "output_type": "stream",
     "text": [
      "Boxplot comparing consumer rating of hot vs cold cereals: \n"
     ]
    },
    {
     "data": {
      "image/png": "[encoded data removed]",
      "text/plain": [
       "<Figure size 432x288 with 1 Axes>"
      ]
     },
     "metadata": {
      "needs_background": "light"
     },
     "output_type": "display_data"
    }
   ],
   "source": [
    "print(\"Boxplot comparing consumer rating of hot vs cold cereals: \")\n",
    "sns.boxplot(x = df[\"type\"], y = df[\"rating\"])\n",
    "plt.show()"
   ]
  },
  {
   "cell_type": "markdown",
   "id": "79b96306",
   "metadata": {},
   "source": [
    "4. Is there a relation between sugars, calories, carbs, and fat"
   ]
  },
  {
   "cell_type": "code",
   "execution_count": 6,
   "id": "133b5a88",
   "metadata": {},
   "outputs": [
    {
     "name": "stdout",
     "output_type": "stream",
     "text": [
      "Correlation between sugars, calories, carbs and fat is as follows: \n"
     ]
    },
    {
     "data": {
      "text/html": [
       "<div>\n",
       "<style scoped>\n",
       "    .dataframe tbody tr th:only-of-type {\n",
       "        vertical-align: middle;\n",
       "    }\n",
       "\n",
       "    .dataframe tbody tr th {\n",
       "        vertical-align: top;\n",
       "    }\n",
       "\n",
       "    .dataframe thead th {\n",
       "        text-align: right;\n",
       "    }\n",
       "</style>\n",
       "<table border=\"1\" class=\"dataframe\">\n",
       "  <thead>\n",
       "    <tr style=\"text-align: right;\">\n",
       "      <th></th>\n",
       "      <th>sugars</th>\n",
       "      <th>calories</th>\n",
       "      <th>carbo</th>\n",
       "      <th>fat</th>\n",
       "    </tr>\n",
       "  </thead>\n",
       "  <tbody>\n",
       "    <tr>\n",
       "      <th>sugars</th>\n",
       "      <td>1.000000</td>\n",
       "      <td>0.574229</td>\n",
       "      <td>-0.501087</td>\n",
       "      <td>0.300545</td>\n",
       "    </tr>\n",
       "    <tr>\n",
       "      <th>calories</th>\n",
       "      <td>0.574229</td>\n",
       "      <td>1.000000</td>\n",
       "      <td>0.207239</td>\n",
       "      <td>0.510630</td>\n",
       "    </tr>\n",
       "    <tr>\n",
       "      <th>carbo</th>\n",
       "      <td>-0.501087</td>\n",
       "      <td>0.207239</td>\n",
       "      <td>1.000000</td>\n",
       "      <td>-0.311386</td>\n",
       "    </tr>\n",
       "    <tr>\n",
       "      <th>fat</th>\n",
       "      <td>0.300545</td>\n",
       "      <td>0.510630</td>\n",
       "      <td>-0.311386</td>\n",
       "      <td>1.000000</td>\n",
       "    </tr>\n",
       "  </tbody>\n",
       "</table>\n",
       "</div>"
      ],
      "text/plain": [
       "            sugars  calories     carbo       fat\n",
       "sugars    1.000000  0.574229 -0.501087  0.300545\n",
       "calories  0.574229  1.000000  0.207239  0.510630\n",
       "carbo    -0.501087  0.207239  1.000000 -0.311386\n",
       "fat       0.300545  0.510630 -0.311386  1.000000"
      ]
     },
     "execution_count": 6,
     "metadata": {},
     "output_type": "execute_result"
    }
   ],
   "source": [
    "correlation_matrix = df[[\"sugars\",\"calories\",\"carbo\",\"fat\"]].corr()\n",
    "print(\"Correlation between sugars, calories, carbs and fat is as follows: \")\n",
    "correlation_matrix"
   ]
  },
  {
   "cell_type": "markdown",
   "id": "4f817750",
   "metadata": {},
   "source": [
    "Hence from the correlation matrix it can be inferred that there is a correlation in all cases\n",
    "There is a positive correlation between sugars and calories, sugars and fats, calories and carbs, calories and fats.\n",
    "There is a negative correlation between fats and carbs, sugars and carbs"
   ]
  },
  {
   "cell_type": "markdown",
   "id": "3122a9e6",
   "metadata": {},
   "source": [
    "5. Which manufacturers produce cereal with highest calories?"
   ]
  },
  {
   "cell_type": "code",
   "execution_count": 7,
   "id": "6f06503e",
   "metadata": {},
   "outputs": [
    {
     "name": "stdout",
     "output_type": "stream",
     "text": [
      "The manufacturer producing cereal with the highest calories is:  R\n"
     ]
    }
   ],
   "source": [
    "average_calories = df.groupby(\"mfr\")[\"calories\"].mean()\n",
    "max_calories = average_calories.max()\n",
    "max_calories_mfr = average_calories[average_calories == max_calories].index[0]\n",
    "print(\"The manufacturer producing cereal with the highest calories is: \",max_calories_mfr)"
   ]
  },
  {
   "cell_type": "markdown",
   "id": "30257cbb",
   "metadata": {},
   "source": [
    "6. Use correlation tests and visualization to identify if the two variables calories and \n",
    "consumer rating associated"
   ]
  },
  {
   "cell_type": "code",
   "execution_count": 8,
   "id": "6c215159",
   "metadata": {},
   "outputs": [
    {
     "name": "stdout",
     "output_type": "stream",
     "text": [
      "Correlation between calories and customer rating is:  -0.6743360496799723\n",
      "There is negative correation between the calories and the consumer rating.\n"
     ]
    },
    {
     "data": {
      "image/png": "[encoded data removed]",
      "text/plain": [
       "<Figure size 720x432 with 1 Axes>"
      ]
     },
     "metadata": {
      "needs_background": "light"
     },
     "output_type": "display_data"
    }
   ],
   "source": [
    "correlation = df[\"calories\"].corr(df[\"rating\"])\n",
    "print(\"Correlation between calories and customer rating is: \",correlation)\n",
    "if correlation>0:\n",
    "    print(\"There is positive correlation between the calories and the consumer rating.\")\n",
    "elif correlation<0:\n",
    "    print(\"There is negative correation between the calories and the consumer rating.\")\n",
    "else:\n",
    "    print(\"There is no correlation between the calories and the consumer rating.\")\n",
    "\n",
    "plt.figure(figsize=(10, 6))\n",
    "sns.scatterplot(x='calories', y='rating', data=df)\n",
    "sns.regplot(x='calories', y='rating', data=df, scatter=False, color='red')\n",
    "plt.title('Scatter Plot of Calories vs Consumer Rating')\n",
    "plt.xlabel('Calories')\n",
    "plt.ylabel('Consumer Rating')\n",
    "plt.show()\n"
   ]
  },
  {
   "cell_type": "markdown",
   "id": "2e8d2ce7",
   "metadata": {},
   "source": [
    "7. Use correlation tests and visualization to identify if the two variables shelf and \n",
    "consumer rating associated?"
   ]
  },
  {
   "cell_type": "code",
   "execution_count": 9,
   "id": "e5fb8117",
   "metadata": {},
   "outputs": [
    {
     "name": "stdout",
     "output_type": "stream",
     "text": [
      "Correlation between shelf and customer rating is :  0.0019730207509652386\n",
      "There is positive correlation between the shelf and the consumer rating.\n"
     ]
    },
    {
     "data": {
      "image/png": "[encoded data removed]",
      "text/plain": [
       "<Figure size 720x432 with 1 Axes>"
      ]
     },
     "metadata": {
      "needs_background": "light"
     },
     "output_type": "display_data"
    }
   ],
   "source": [
    "correlation2 = df[\"shelf\"].corr(df[\"rating\"])\n",
    "print(\"Correlation between shelf and customer rating is : \",correlation2)\n",
    "if correlation2>0:\n",
    "    print(\"There is positive correlation between the shelf and the consumer rating.\")\n",
    "elif correlation2<0:\n",
    "    print(\"There is negative correation between the shelf and the consumer rating.\")\n",
    "else:\n",
    "    print(\"There is no correlation between the shelf and the consumer rating.\")\n",
    "\n",
    "plt.figure(figsize=(10, 6))\n",
    "sns.scatterplot(x='shelf', y='rating', data=df)\n",
    "sns.regplot(x='shelf', y='rating', data=df, scatter=False, color='red')\n",
    "plt.title('Scatter Plot of Shelf vs Consumer Rating')\n",
    "plt.xlabel('Shelf')\n",
    "plt.ylabel('Consumer Rating')\n",
    "plt.show()"
   ]
  },
  {
   "cell_type": "markdown",
   "id": "6b5f2560",
   "metadata": {},
   "source": [
    "8. Is there a relation between manufacturer and rating?"
   ]
  },
  {
   "cell_type": "code",
   "execution_count": 10,
   "id": "a68fe543",
   "metadata": {},
   "outputs": [
    {
     "name": "stdout",
     "output_type": "stream",
     "text": [
      "Average rating for each manufacturer is: \n",
      "mfr\n",
      "A    54.850917\n",
      "G    34.485852\n",
      "K    44.038462\n",
      "N    67.881686\n",
      "P    41.705744\n",
      "Q    42.915990\n",
      "R    41.542997\n",
      "Name: rating, dtype: float64\n"
     ]
    },
    {
     "data": {
      "image/png": "[encoded data removed]",
      "text/plain": [
       "<Figure size 720x432 with 1 Axes>"
      ]
     },
     "metadata": {
      "needs_background": "light"
     },
     "output_type": "display_data"
    }
   ],
   "source": [
    "average_rating = df.groupby('mfr')[\"rating\"].mean()\n",
    "print(\"Average rating for each manufacturer is: \")\n",
    "print(average_rating)\n",
    "plt.figure(figsize=(10, 6))\n",
    "sns.boxplot(x='mfr', y='rating', data=df)\n",
    "plt.title('Box Plot of Ratings by Manufacturer')\n",
    "plt.xlabel('Manufacturer')\n",
    "plt.ylabel('Rating')\n",
    "plt.show()"
   ]
  },
  {
   "cell_type": "markdown",
   "id": "d30f7faa",
   "metadata": {},
   "source": [
    "Hence there is a relation between manufacturers and ratings"
   ]
  },
  {
   "cell_type": "markdown",
   "id": "b754a459",
   "metadata": {},
   "source": [
    "9. Which nutrients are essential for a good rating for a cereal?"
   ]
  },
  {
   "cell_type": "code",
   "execution_count": 11,
   "id": "5eb84750",
   "metadata": {},
   "outputs": [
    {
     "name": "stdout",
     "output_type": "stream",
     "text": [
      "Correlation between rating and each nutrient is: \n",
      "calories   -0.674336\n",
      "protein     0.453683\n",
      "fat        -0.418439\n",
      "sodium     -0.402077\n",
      "fiber       0.557242\n",
      "carbo       0.161090\n",
      "sugars     -0.774269\n",
      "potass      0.367914\n",
      "vitamins   -0.242516\n",
      "Name: rating, dtype: float64\n"
     ]
    },
    {
     "data": {
      "image/png": "[encoded data removed]",
      "text/plain": [
       "<Figure size 720x432 with 1 Axes>"
      ]
     },
     "metadata": {
      "needs_background": "light"
     },
     "output_type": "display_data"
    }
   ],
   "source": [
    "correlations = df[['rating', 'calories', 'protein', 'fat', 'sodium', 'fiber', 'carbo', 'sugars', 'potass','vitamins']].corr()\n",
    "rating_correlations = correlations['rating'].drop('rating')\n",
    "print(\"Correlation between rating and each nutrient is: \")\n",
    "print(rating_correlations)\n",
    "plt.figure(figsize=(10, 6))\n",
    "rating_correlations.plot(kind='bar')\n",
    "plt.title('Correlation of Ratings with Nutrients')\n",
    "plt.xlabel('Nutrients')\n",
    "plt.ylabel('Correlation')\n",
    "plt.show()\n"
   ]
  },
  {
   "cell_type": "markdown",
   "id": "190edcdb",
   "metadata": {},
   "source": [
    "Hence we can see that protein, fiber, carbohydrates and potassium are essential for a good rating for a cereal"
   ]
  },
  {
   "cell_type": "markdown",
   "id": "311433f9",
   "metadata": {},
   "source": [
    "10. Design a Linear regression model to predict the rating of a cereal based on top 3 \n",
    "related nutrients. Tabulate the accuracy of the model using an 80, 20 split.\n"
   ]
  },
  {
   "cell_type": "code",
   "execution_count": 12,
   "id": "b15d3c13",
   "metadata": {},
   "outputs": [
    {
     "name": "stdout",
     "output_type": "stream",
     "text": [
      "Mean Absolute Error (MAE): 8.694191736888254\n",
      "Mean Squared Error (MSE): 107.62943672297872\n",
      "R-squared (R2): 0.0014839018791580338\n"
     ]
    }
   ],
   "source": [
    "top_nutrients = [\"protein\",\"fiber\",\"potass\"]\n",
    "X = df[top_nutrients]\n",
    "y = df[\"rating\"]\n",
    "from sklearn.model_selection import train_test_split\n",
    "from sklearn.linear_model import LinearRegression\n",
    "from sklearn.metrics import mean_absolute_error, mean_squared_error, r2_score\n",
    "X_train, X_test, y_train, y_test = train_test_split(X, y, test_size=0.2, random_state=42)\n",
    "model = LinearRegression()\n",
    "model.fit(X_train, y_train)\n",
    "y_pred = model.predict(X_test)\n",
    "mae = mean_absolute_error(y_test, y_pred)\n",
    "mse = mean_squared_error(y_test, y_pred)\n",
    "r2 = r2_score(y_test, y_pred)\n",
    "print(\"Mean Absolute Error (MAE):\", mae)\n",
    "print(\"Mean Squared Error (MSE):\", mse)\n",
    "print(\"R-squared (R2):\", r2)\n"
   ]
  }
 ],
 "metadata": {
  "kernelspec": {
   "display_name": "Python 3 (ipykernel)",
   "language": "python",
   "name": "python3"
  },
  "language_info": {
   "codemirror_mode": {
    "name": "ipython",
    "version": 3
   },
   "file_extension": ".py",
   "mimetype": "text/x-python",
   "name": "python",
   "nbconvert_exporter": "python",
   "pygments_lexer": "ipython3",
   "version": "3.9.12"
  }
 },
 "nbformat": 4,
 "nbformat_minor": 5
}

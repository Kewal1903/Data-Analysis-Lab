{
 "cells": [
  {
   "cell_type": "markdown",
   "id": "9e4f9622",
   "metadata": {},
   "source": [
    "# 230968126 Week-1 \n"
   ]
  },
  {
   "cell_type": "markdown",
   "id": "d737bb34",
   "metadata": {},
   "source": [
    "Name:- Kewal Thacker, Section :- A, Batch 1"
   ]
  },
  {
   "cell_type": "markdown",
   "id": "cbf6246f",
   "metadata": {},
   "source": [
    "1. Create Python program to find the average of 10 numbers using while loop"
   ]
  },
  {
   "cell_type": "code",
   "execution_count": 3,
   "id": "ad60dc9d",
   "metadata": {},
   "outputs": [
    {
     "name": "stdout",
     "output_type": "stream",
     "text": [
      "Enter a number:- 1\n",
      "Enter a number:- 2\n",
      "Enter a number:- 3\n",
      "Enter a number:- 4\n",
      "Enter a number:- 5\n",
      "Enter a number:- 6\n",
      "Enter a number:- 7\n",
      "Enter a number:- 8\n",
      "Enter a number:- 9\n",
      "Enter a number:- 10\n",
      "Sum of 10 numbers is:  55\n",
      "Average of 10 numbers is:  5.5\n"
     ]
    }
   ],
   "source": [
    "sum = 0\n",
    "list1 = []\n",
    "for i in range(10):\n",
    "    x = int(input(\"Enter a number:- \"))\n",
    "    list1.append(x)\n",
    "i = 0\n",
    "while(i<len(list1)):\n",
    "    sum = sum + list1[i]\n",
    "    i = i+1\n",
    "avg = sum/10\n",
    "print(\"Sum of 10 numbers is: \",sum)\n",
    "print(\"Average of 10 numbers is: \",avg)\n"
   ]
  },
  {
   "cell_type": "markdown",
   "id": "84ff3f0c",
   "metadata": {},
   "source": [
    "2. Create Python program to find the geometric mean of n numbers"
   ]
  },
  {
   "cell_type": "code",
   "execution_count": 4,
   "id": "62bae6e7",
   "metadata": {},
   "outputs": [
    {
     "name": "stdout",
     "output_type": "stream",
     "text": [
      "Enter value of n:- 2\n",
      "Enter a number:- 3\n",
      "Enter a number:- 1\n",
      "Geometric mean is:-  1.7320508075688772\n"
     ]
    }
   ],
   "source": [
    "n = int(input(\"Enter value of n:- \"))\n",
    "product = 1\n",
    "for i in range(n):\n",
    "    a = int(input(\"Enter a number:- \"))\n",
    "    product = product * a\n",
    "gm = (product)**(1/n)\n",
    "print(\"Geometric mean is:- \",gm)"
   ]
  },
  {
   "cell_type": "markdown",
   "id": "41e312d3",
   "metadata": {},
   "source": [
    "3. Create Python program to check whether the given integer is a prime number or not"
   ]
  },
  {
   "cell_type": "code",
   "execution_count": 11,
   "id": "19eb3672",
   "metadata": {},
   "outputs": [
    {
     "name": "stdout",
     "output_type": "stream",
     "text": [
      "Enter a number:- 7\n",
      "The number is prime\n"
     ]
    }
   ],
   "source": [
    "n = int(input(\"Enter a number:- \"))\n",
    "count = 0\n",
    "for i in range(2,(n-1)):\n",
    "    x = n%i\n",
    "    if x==0:\n",
    "        count += 1\n",
    "    else:\n",
    "        count = count\n",
    "if (count>0):\n",
    "    print(\"The number is not prime\")\n",
    "else:\n",
    "    print(\"The number is prime\")\n",
    "    "
   ]
  },
  {
   "cell_type": "markdown",
   "id": "5f125148",
   "metadata": {},
   "source": [
    "4. Create Python program to implement linear search and implement binary search"
   ]
  },
  {
   "cell_type": "code",
   "execution_count": 32,
   "id": "1de224da",
   "metadata": {},
   "outputs": [
    {
     "name": "stdout",
     "output_type": "stream",
     "text": [
      "Enter length of list:- 8\n",
      "Enter numbers in the list:- 1\n",
      "Enter numbers in the list:- 2\n",
      "Enter numbers in the list:- 3\n",
      "Enter numbers in the list:- 4\n",
      "Enter numbers in the list:- 5\n",
      "Enter numbers in the list:- 6\n",
      "Enter numbers in the list:- 7\n",
      "Enter numbers in the list:- 8\n",
      "Enter target element:- 6\n",
      "Element 6 is present in the list\n"
     ]
    }
   ],
   "source": [
    "list1 = []\n",
    "found = False\n",
    "n = int(input(\"Enter length of list:- \"))\n",
    "for i in range(n):\n",
    "    x = int(input(\"Enter numbers in the list:- \"))\n",
    "    list1.append(x)\n",
    "ele = int(input(\"Enter target element:- \"))\n",
    "for i in list1:\n",
    "    if (i == ele):\n",
    "        found = True\n",
    "        index = i-1\n",
    "        break\n",
    "if found == True:\n",
    "    print(\"Element\",ele,\"is present in the list\")\n",
    "else:\n",
    "    print(\"Element not found in list\")\n",
    "    "
   ]
  },
  {
   "cell_type": "code",
   "execution_count": 33,
   "id": "ee1da6fd",
   "metadata": {},
   "outputs": [
    {
     "name": "stdout",
     "output_type": "stream",
     "text": [
      "Element 6 is present in the list\n"
     ]
    }
   ],
   "source": [
    "list2 = sorted(list1)\n",
    "low = 0\n",
    "high = len(list2) - 1\n",
    "while high >= low:\n",
    "    mid = (high+low)//2\n",
    "    if list2[mid] == ele:\n",
    "        found = True\n",
    "        break\n",
    "    elif list2[mid] > x:\n",
    "        high = mid-1\n",
    "    else:\n",
    "        low = mid+1\n",
    "if found:\n",
    "    print(\"Element\",ele, \"is present in the list\")\n",
    "else:\n",
    "    print(\"Element\",ele, \"is not present in list\")"
   ]
  },
  {
   "cell_type": "markdown",
   "id": "0f42cd12",
   "metadata": {},
   "source": [
    "5. Using math package, Create Python program to find the area of a triangle whose sides \n",
    "are given"
   ]
  },
  {
   "cell_type": "code",
   "execution_count": 19,
   "id": "233adfca",
   "metadata": {},
   "outputs": [
    {
     "name": "stdout",
     "output_type": "stream",
     "text": [
      "Enter first side length of triangle:- 12\n",
      "Enter second side length of triangle:- 16\n",
      "Enter third side length of triangle:- 12\n",
      "Area of the triangle is 71.55417527999327\n"
     ]
    }
   ],
   "source": [
    "import math\n",
    "a = int(input(\"Enter first side length of triangle:- \"))\n",
    "b = int(input(\"Enter second side length of triangle:- \"))\n",
    "c = int(input(\"Enter third side length of triangle:- \"))\n",
    "s = (a+b+c)/2\n",
    "area = math.sqrt(s*(s-a)*(s-b)*(s-c))\n",
    "print(\"Area of the triangle is\",area)"
   ]
  },
  {
   "cell_type": "code",
   "execution_count": null,
   "id": "a6a8c752",
   "metadata": {},
   "outputs": [],
   "source": []
  }
 ],
 "metadata": {
  "kernelspec": {
   "display_name": "Python 3 (ipykernel)",
   "language": "python",
   "name": "python3"
  },
  "language_info": {
   "codemirror_mode": {
    "name": "ipython",
    "version": 3
   },
   "file_extension": ".py",
   "mimetype": "text/x-python",
   "name": "python",
   "nbconvert_exporter": "python",
   "pygments_lexer": "ipython3",
   "version": "3.9.12"
  }
 },
 "nbformat": 4,
 "nbformat_minor": 5
}

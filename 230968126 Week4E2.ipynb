{
 "cells": [
  {
   "cell_type": "markdown",
   "id": "5ee0e4fe",
   "metadata": {},
   "source": [
    "# 230968126 Week 4 Exercise 2"
   ]
  },
  {
   "cell_type": "markdown",
   "id": "01f765df",
   "metadata": {},
   "source": [
    "Name :- Kewal Thacker, Section A, Batch 1"
   ]
  },
  {
   "cell_type": "markdown",
   "id": "905e1ec2",
   "metadata": {},
   "source": [
    "EXERCISE 2 – Descriptive Analytics and Visualization using Matplotlib, Seaborn: \n",
    "(Cross tabulation, distributions, Multi-variate analysis, Various Plots)\n",
    "Use the IPL datasets and answer the following:"
   ]
  },
  {
   "cell_type": "code",
   "execution_count": 1,
   "id": "d302e2e9",
   "metadata": {},
   "outputs": [
    {
     "data": {
      "text/html": [
       "<div>\n",
       "<style scoped>\n",
       "    .dataframe tbody tr th:only-of-type {\n",
       "        vertical-align: middle;\n",
       "    }\n",
       "\n",
       "    .dataframe tbody tr th {\n",
       "        vertical-align: top;\n",
       "    }\n",
       "\n",
       "    .dataframe thead th {\n",
       "        text-align: right;\n",
       "    }\n",
       "</style>\n",
       "<table border=\"1\" class=\"dataframe\">\n",
       "  <thead>\n",
       "    <tr style=\"text-align: right;\">\n",
       "      <th></th>\n",
       "      <th>id</th>\n",
       "      <th>season</th>\n",
       "      <th>city</th>\n",
       "      <th>date</th>\n",
       "      <th>team1</th>\n",
       "      <th>team2</th>\n",
       "      <th>toss_winner</th>\n",
       "      <th>toss_decision</th>\n",
       "      <th>result</th>\n",
       "      <th>dl_applied</th>\n",
       "      <th>winner</th>\n",
       "      <th>win_by_runs</th>\n",
       "      <th>win_by_wickets</th>\n",
       "      <th>player_of_match</th>\n",
       "      <th>venue</th>\n",
       "      <th>umpire1</th>\n",
       "      <th>umpire2</th>\n",
       "      <th>umpire3</th>\n",
       "    </tr>\n",
       "  </thead>\n",
       "  <tbody>\n",
       "    <tr>\n",
       "      <th>0</th>\n",
       "      <td>1</td>\n",
       "      <td>2017</td>\n",
       "      <td>Hyderabad</td>\n",
       "      <td>2017-04-05</td>\n",
       "      <td>Sunrisers Hyderabad</td>\n",
       "      <td>Royal Challengers Bangalore</td>\n",
       "      <td>Royal Challengers Bangalore</td>\n",
       "      <td>field</td>\n",
       "      <td>normal</td>\n",
       "      <td>0</td>\n",
       "      <td>Sunrisers Hyderabad</td>\n",
       "      <td>35</td>\n",
       "      <td>0</td>\n",
       "      <td>Yuvraj Singh</td>\n",
       "      <td>Rajiv Gandhi International Stadium, Uppal</td>\n",
       "      <td>AY Dandekar</td>\n",
       "      <td>NJ Llong</td>\n",
       "      <td>NaN</td>\n",
       "    </tr>\n",
       "    <tr>\n",
       "      <th>1</th>\n",
       "      <td>2</td>\n",
       "      <td>2017</td>\n",
       "      <td>Pune</td>\n",
       "      <td>2017-04-06</td>\n",
       "      <td>Mumbai Indians</td>\n",
       "      <td>Rising Pune Supergiant</td>\n",
       "      <td>Rising Pune Supergiant</td>\n",
       "      <td>field</td>\n",
       "      <td>normal</td>\n",
       "      <td>0</td>\n",
       "      <td>Rising Pune Supergiant</td>\n",
       "      <td>0</td>\n",
       "      <td>7</td>\n",
       "      <td>SPD Smith</td>\n",
       "      <td>Maharashtra Cricket Association Stadium</td>\n",
       "      <td>A Nand Kishore</td>\n",
       "      <td>S Ravi</td>\n",
       "      <td>NaN</td>\n",
       "    </tr>\n",
       "    <tr>\n",
       "      <th>2</th>\n",
       "      <td>3</td>\n",
       "      <td>2017</td>\n",
       "      <td>Rajkot</td>\n",
       "      <td>2017-04-07</td>\n",
       "      <td>Gujarat Lions</td>\n",
       "      <td>Kolkata Knight Riders</td>\n",
       "      <td>Kolkata Knight Riders</td>\n",
       "      <td>field</td>\n",
       "      <td>normal</td>\n",
       "      <td>0</td>\n",
       "      <td>Kolkata Knight Riders</td>\n",
       "      <td>0</td>\n",
       "      <td>10</td>\n",
       "      <td>CA Lynn</td>\n",
       "      <td>Saurashtra Cricket Association Stadium</td>\n",
       "      <td>Nitin Menon</td>\n",
       "      <td>CK Nandan</td>\n",
       "      <td>NaN</td>\n",
       "    </tr>\n",
       "    <tr>\n",
       "      <th>3</th>\n",
       "      <td>4</td>\n",
       "      <td>2017</td>\n",
       "      <td>Indore</td>\n",
       "      <td>2017-04-08</td>\n",
       "      <td>Rising Pune Supergiant</td>\n",
       "      <td>Kings XI Punjab</td>\n",
       "      <td>Kings XI Punjab</td>\n",
       "      <td>field</td>\n",
       "      <td>normal</td>\n",
       "      <td>0</td>\n",
       "      <td>Kings XI Punjab</td>\n",
       "      <td>0</td>\n",
       "      <td>6</td>\n",
       "      <td>GJ Maxwell</td>\n",
       "      <td>Holkar Cricket Stadium</td>\n",
       "      <td>AK Chaudhary</td>\n",
       "      <td>C Shamshuddin</td>\n",
       "      <td>NaN</td>\n",
       "    </tr>\n",
       "    <tr>\n",
       "      <th>4</th>\n",
       "      <td>5</td>\n",
       "      <td>2017</td>\n",
       "      <td>Bangalore</td>\n",
       "      <td>2017-04-08</td>\n",
       "      <td>Royal Challengers Bangalore</td>\n",
       "      <td>Delhi Daredevils</td>\n",
       "      <td>Royal Challengers Bangalore</td>\n",
       "      <td>bat</td>\n",
       "      <td>normal</td>\n",
       "      <td>0</td>\n",
       "      <td>Royal Challengers Bangalore</td>\n",
       "      <td>15</td>\n",
       "      <td>0</td>\n",
       "      <td>KM Jadhav</td>\n",
       "      <td>M Chinnaswamy Stadium</td>\n",
       "      <td>NaN</td>\n",
       "      <td>NaN</td>\n",
       "      <td>NaN</td>\n",
       "    </tr>\n",
       "    <tr>\n",
       "      <th>...</th>\n",
       "      <td>...</td>\n",
       "      <td>...</td>\n",
       "      <td>...</td>\n",
       "      <td>...</td>\n",
       "      <td>...</td>\n",
       "      <td>...</td>\n",
       "      <td>...</td>\n",
       "      <td>...</td>\n",
       "      <td>...</td>\n",
       "      <td>...</td>\n",
       "      <td>...</td>\n",
       "      <td>...</td>\n",
       "      <td>...</td>\n",
       "      <td>...</td>\n",
       "      <td>...</td>\n",
       "      <td>...</td>\n",
       "      <td>...</td>\n",
       "      <td>...</td>\n",
       "    </tr>\n",
       "    <tr>\n",
       "      <th>751</th>\n",
       "      <td>11347</td>\n",
       "      <td>2019</td>\n",
       "      <td>Mumbai</td>\n",
       "      <td>05/05/19</td>\n",
       "      <td>Kolkata Knight Riders</td>\n",
       "      <td>Mumbai Indians</td>\n",
       "      <td>Mumbai Indians</td>\n",
       "      <td>field</td>\n",
       "      <td>normal</td>\n",
       "      <td>0</td>\n",
       "      <td>Mumbai Indians</td>\n",
       "      <td>0</td>\n",
       "      <td>9</td>\n",
       "      <td>HH Pandya</td>\n",
       "      <td>Wankhede Stadium</td>\n",
       "      <td>Nanda Kishore</td>\n",
       "      <td>O Nandan</td>\n",
       "      <td>S Ravi</td>\n",
       "    </tr>\n",
       "    <tr>\n",
       "      <th>752</th>\n",
       "      <td>11412</td>\n",
       "      <td>2019</td>\n",
       "      <td>Chennai</td>\n",
       "      <td>07/05/19</td>\n",
       "      <td>Chennai Super Kings</td>\n",
       "      <td>Mumbai Indians</td>\n",
       "      <td>Chennai Super Kings</td>\n",
       "      <td>bat</td>\n",
       "      <td>normal</td>\n",
       "      <td>0</td>\n",
       "      <td>Mumbai Indians</td>\n",
       "      <td>0</td>\n",
       "      <td>6</td>\n",
       "      <td>AS Yadav</td>\n",
       "      <td>M. A. Chidambaram Stadium</td>\n",
       "      <td>Nigel Llong</td>\n",
       "      <td>Nitin Menon</td>\n",
       "      <td>Ian Gould</td>\n",
       "    </tr>\n",
       "    <tr>\n",
       "      <th>753</th>\n",
       "      <td>11413</td>\n",
       "      <td>2019</td>\n",
       "      <td>Visakhapatnam</td>\n",
       "      <td>08/05/19</td>\n",
       "      <td>Sunrisers Hyderabad</td>\n",
       "      <td>Delhi Capitals</td>\n",
       "      <td>Delhi Capitals</td>\n",
       "      <td>field</td>\n",
       "      <td>normal</td>\n",
       "      <td>0</td>\n",
       "      <td>Delhi Capitals</td>\n",
       "      <td>0</td>\n",
       "      <td>2</td>\n",
       "      <td>RR Pant</td>\n",
       "      <td>ACA-VDCA Stadium</td>\n",
       "      <td>NaN</td>\n",
       "      <td>NaN</td>\n",
       "      <td>NaN</td>\n",
       "    </tr>\n",
       "    <tr>\n",
       "      <th>754</th>\n",
       "      <td>11414</td>\n",
       "      <td>2019</td>\n",
       "      <td>Visakhapatnam</td>\n",
       "      <td>10/05/19</td>\n",
       "      <td>Delhi Capitals</td>\n",
       "      <td>Chennai Super Kings</td>\n",
       "      <td>Chennai Super Kings</td>\n",
       "      <td>field</td>\n",
       "      <td>normal</td>\n",
       "      <td>0</td>\n",
       "      <td>Chennai Super Kings</td>\n",
       "      <td>0</td>\n",
       "      <td>6</td>\n",
       "      <td>F du Plessis</td>\n",
       "      <td>ACA-VDCA Stadium</td>\n",
       "      <td>Sundaram Ravi</td>\n",
       "      <td>Bruce Oxenford</td>\n",
       "      <td>Chettithody Shamshuddin</td>\n",
       "    </tr>\n",
       "    <tr>\n",
       "      <th>755</th>\n",
       "      <td>11415</td>\n",
       "      <td>2019</td>\n",
       "      <td>Hyderabad</td>\n",
       "      <td>12/05/19</td>\n",
       "      <td>Mumbai Indians</td>\n",
       "      <td>Chennai Super Kings</td>\n",
       "      <td>Mumbai Indians</td>\n",
       "      <td>bat</td>\n",
       "      <td>normal</td>\n",
       "      <td>0</td>\n",
       "      <td>Mumbai Indians</td>\n",
       "      <td>1</td>\n",
       "      <td>0</td>\n",
       "      <td>JJ Bumrah</td>\n",
       "      <td>Rajiv Gandhi Intl. Cricket Stadium</td>\n",
       "      <td>Nitin Menon</td>\n",
       "      <td>Ian Gould</td>\n",
       "      <td>Nigel Llong</td>\n",
       "    </tr>\n",
       "  </tbody>\n",
       "</table>\n",
       "<p>756 rows × 18 columns</p>\n",
       "</div>"
      ],
      "text/plain": [
       "        id  season           city        date                        team1  \\\n",
       "0        1    2017      Hyderabad  2017-04-05          Sunrisers Hyderabad   \n",
       "1        2    2017           Pune  2017-04-06               Mumbai Indians   \n",
       "2        3    2017         Rajkot  2017-04-07                Gujarat Lions   \n",
       "3        4    2017         Indore  2017-04-08       Rising Pune Supergiant   \n",
       "4        5    2017      Bangalore  2017-04-08  Royal Challengers Bangalore   \n",
       "..     ...     ...            ...         ...                          ...   \n",
       "751  11347    2019         Mumbai    05/05/19        Kolkata Knight Riders   \n",
       "752  11412    2019        Chennai    07/05/19          Chennai Super Kings   \n",
       "753  11413    2019  Visakhapatnam    08/05/19          Sunrisers Hyderabad   \n",
       "754  11414    2019  Visakhapatnam    10/05/19               Delhi Capitals   \n",
       "755  11415    2019      Hyderabad    12/05/19               Mumbai Indians   \n",
       "\n",
       "                           team2                  toss_winner toss_decision  \\\n",
       "0    Royal Challengers Bangalore  Royal Challengers Bangalore         field   \n",
       "1         Rising Pune Supergiant       Rising Pune Supergiant         field   \n",
       "2          Kolkata Knight Riders        Kolkata Knight Riders         field   \n",
       "3                Kings XI Punjab              Kings XI Punjab         field   \n",
       "4               Delhi Daredevils  Royal Challengers Bangalore           bat   \n",
       "..                           ...                          ...           ...   \n",
       "751               Mumbai Indians               Mumbai Indians         field   \n",
       "752               Mumbai Indians          Chennai Super Kings           bat   \n",
       "753               Delhi Capitals               Delhi Capitals         field   \n",
       "754          Chennai Super Kings          Chennai Super Kings         field   \n",
       "755          Chennai Super Kings               Mumbai Indians           bat   \n",
       "\n",
       "     result  dl_applied                       winner  win_by_runs  \\\n",
       "0    normal           0          Sunrisers Hyderabad           35   \n",
       "1    normal           0       Rising Pune Supergiant            0   \n",
       "2    normal           0        Kolkata Knight Riders            0   \n",
       "3    normal           0              Kings XI Punjab            0   \n",
       "4    normal           0  Royal Challengers Bangalore           15   \n",
       "..      ...         ...                          ...          ...   \n",
       "751  normal           0               Mumbai Indians            0   \n",
       "752  normal           0               Mumbai Indians            0   \n",
       "753  normal           0               Delhi Capitals            0   \n",
       "754  normal           0          Chennai Super Kings            0   \n",
       "755  normal           0               Mumbai Indians            1   \n",
       "\n",
       "     win_by_wickets player_of_match  \\\n",
       "0                 0    Yuvraj Singh   \n",
       "1                 7       SPD Smith   \n",
       "2                10         CA Lynn   \n",
       "3                 6      GJ Maxwell   \n",
       "4                 0       KM Jadhav   \n",
       "..              ...             ...   \n",
       "751               9       HH Pandya   \n",
       "752               6        AS Yadav   \n",
       "753               2         RR Pant   \n",
       "754               6    F du Plessis   \n",
       "755               0       JJ Bumrah   \n",
       "\n",
       "                                         venue         umpire1  \\\n",
       "0    Rajiv Gandhi International Stadium, Uppal     AY Dandekar   \n",
       "1      Maharashtra Cricket Association Stadium  A Nand Kishore   \n",
       "2       Saurashtra Cricket Association Stadium     Nitin Menon   \n",
       "3                       Holkar Cricket Stadium    AK Chaudhary   \n",
       "4                        M Chinnaswamy Stadium             NaN   \n",
       "..                                         ...             ...   \n",
       "751                           Wankhede Stadium   Nanda Kishore   \n",
       "752                  M. A. Chidambaram Stadium     Nigel Llong   \n",
       "753                           ACA-VDCA Stadium             NaN   \n",
       "754                           ACA-VDCA Stadium   Sundaram Ravi   \n",
       "755         Rajiv Gandhi Intl. Cricket Stadium     Nitin Menon   \n",
       "\n",
       "            umpire2                  umpire3  \n",
       "0          NJ Llong                      NaN  \n",
       "1            S Ravi                      NaN  \n",
       "2         CK Nandan                      NaN  \n",
       "3     C Shamshuddin                      NaN  \n",
       "4               NaN                      NaN  \n",
       "..              ...                      ...  \n",
       "751        O Nandan                   S Ravi  \n",
       "752     Nitin Menon                Ian Gould  \n",
       "753             NaN                      NaN  \n",
       "754  Bruce Oxenford  Chettithody Shamshuddin  \n",
       "755       Ian Gould              Nigel Llong  \n",
       "\n",
       "[756 rows x 18 columns]"
      ]
     },
     "execution_count": 1,
     "metadata": {},
     "output_type": "execute_result"
    }
   ],
   "source": [
    "import pandas as pd\n",
    "import numpy as np\n",
    "import matplotlib.pyplot as plt\n",
    "import seaborn as sns\n",
    "\n",
    "matches = pd.read_csv(\"D:\\\\230968126_Kewal\\\\Week4\\\\matches.csv\")\n",
    "df = pd.DataFrame(matches)\n",
    "df"
   ]
  },
  {
   "cell_type": "markdown",
   "id": "0124bf4c",
   "metadata": {},
   "source": [
    "1) Count the total number of matches conducted in the year 2008"
   ]
  },
  {
   "cell_type": "code",
   "execution_count": 2,
   "id": "9b2d3322",
   "metadata": {},
   "outputs": [
    {
     "name": "stdout",
     "output_type": "stream",
     "text": [
      "Total number of matches conduced in the year 2008 is:  58\n"
     ]
    }
   ],
   "source": [
    "matches_2008 = df[df['season'] == 2008]\n",
    "matches_2008 = matches_2008.shape[0]\n",
    "print(\"Total number of matches conduced in the year 2008 is: \",matches_2008)"
   ]
  },
  {
   "cell_type": "markdown",
   "id": "cb59558f",
   "metadata": {},
   "source": [
    "2) Find the city name where maximum and minimum number of matches conducted"
   ]
  },
  {
   "cell_type": "code",
   "execution_count": 3,
   "id": "b36099c5",
   "metadata": {},
   "outputs": [
    {
     "name": "stdout",
     "output_type": "stream",
     "text": [
      "City where maximum matches were conducted is:  Mumbai\n",
      "City where minimum matches were conducted is:  Bloemfontein\n"
     ]
    }
   ],
   "source": [
    "matches_per_city = df[\"city\"].value_counts()\n",
    "max_city = matches_per_city.idxmax()\n",
    "min_city = matches_per_city.idxmin()\n",
    "\n",
    "print(\"City where maximum matches were conducted is: \",max_city)\n",
    "print(\"City where minimum matches were conducted is: \",min_city)"
   ]
  },
  {
   "cell_type": "markdown",
   "id": "52806ec6",
   "metadata": {},
   "source": [
    "3) Find total count of matches city wise."
   ]
  },
  {
   "cell_type": "code",
   "execution_count": 4,
   "id": "65a1ea53",
   "metadata": {},
   "outputs": [
    {
     "name": "stdout",
     "output_type": "stream",
     "text": [
      "Total count of matches city wise is as follows: \n"
     ]
    },
    {
     "data": {
      "text/plain": [
       "Mumbai            101\n",
       "Kolkata            77\n",
       "Delhi              74\n",
       "Bangalore          66\n",
       "Hyderabad          64\n",
       "Chennai            57\n",
       "Jaipur             47\n",
       "Chandigarh         46\n",
       "Pune               38\n",
       "Durban             15\n",
       "Bengaluru          14\n",
       "Visakhapatnam      13\n",
       "Centurion          12\n",
       "Ahmedabad          12\n",
       "Rajkot             10\n",
       "Mohali             10\n",
       "Indore              9\n",
       "Dharamsala          9\n",
       "Johannesburg        8\n",
       "Cuttack             7\n",
       "Ranchi              7\n",
       "Port Elizabeth      7\n",
       "Cape Town           7\n",
       "Abu Dhabi           7\n",
       "Sharjah             6\n",
       "Raipur              6\n",
       "Kochi               5\n",
       "Kanpur              4\n",
       "Nagpur              3\n",
       "Kimberley           3\n",
       "East London         3\n",
       "Bloemfontein        2\n",
       "Name: city, dtype: int64"
      ]
     },
     "execution_count": 4,
     "metadata": {},
     "output_type": "execute_result"
    }
   ],
   "source": [
    "print(\"Total count of matches city wise is as follows: \")\n",
    "matches_per_city"
   ]
  },
  {
   "cell_type": "markdown",
   "id": "72c4eb8b",
   "metadata": {},
   "source": [
    "4) Find the Team which is maximum and minimum toss winner."
   ]
  },
  {
   "cell_type": "code",
   "execution_count": 5,
   "id": "9fdcb668",
   "metadata": {},
   "outputs": [
    {
     "name": "stdout",
     "output_type": "stream",
     "text": [
      "Team that won the most tosses is:  Mumbai Indians\n",
      "Team that won the least tosses is:  Rising Pune Supergiant\n"
     ]
    }
   ],
   "source": [
    "toss_winners = df[\"toss_winner\"].value_counts()\n",
    "max_tosses = toss_winners.idxmax()\n",
    "min_tosses = toss_winners.idxmin()\n",
    "\n",
    "print(\"Team that won the most tosses is: \",max_tosses)\n",
    "print(\"Team that won the least tosses is: \",min_tosses)"
   ]
  },
  {
   "cell_type": "markdown",
   "id": "73d46c62",
   "metadata": {},
   "source": [
    "5) Check the toss decision that the team has taken"
   ]
  },
  {
   "cell_type": "code",
   "execution_count": 6,
   "id": "dc5bba91",
   "metadata": {},
   "outputs": [
    {
     "name": "stdout",
     "output_type": "stream",
     "text": [
      "The decisions by the teams that won the tosses are: \n"
     ]
    },
    {
     "data": {
      "text/plain": [
       "field    463\n",
       "bat      293\n",
       "Name: toss_decision, dtype: int64"
      ]
     },
     "execution_count": 6,
     "metadata": {},
     "output_type": "execute_result"
    }
   ],
   "source": [
    "toss_decision = df[\"toss_decision\"].value_counts()\n",
    "print(\"The decisions by the teams that won the tosses are: \")\n",
    "toss_decision"
   ]
  },
  {
   "cell_type": "markdown",
   "id": "ec3f4677",
   "metadata": {},
   "source": [
    "6) Count the total number of normal and tie matches."
   ]
  },
  {
   "cell_type": "code",
   "execution_count": 7,
   "id": "e13631a0",
   "metadata": {},
   "outputs": [
    {
     "name": "stdout",
     "output_type": "stream",
     "text": [
      "The type of results of the matches are: \n"
     ]
    },
    {
     "data": {
      "text/plain": [
       "normal       743\n",
       "tie            9\n",
       "no result      4\n",
       "Name: result, dtype: int64"
      ]
     },
     "execution_count": 7,
     "metadata": {},
     "output_type": "execute_result"
    }
   ],
   "source": [
    "result_counts = df[\"result\"].value_counts()\n",
    "print(\"The type of results of the matches are: \")\n",
    "result_counts"
   ]
  },
  {
   "cell_type": "markdown",
   "id": "1bc7b8b6",
   "metadata": {},
   "source": [
    "7) Find the team names where the match result is tie."
   ]
  },
  {
   "cell_type": "code",
   "execution_count": 8,
   "id": "6530db22",
   "metadata": {},
   "outputs": [
    {
     "name": "stdout",
     "output_type": "stream",
     "text": [
      "Teams involved in tied matches:\n",
      "Gujarat Lions\n",
      "Mumbai Indians\n",
      "Rajasthan Royals\n",
      "Kolkata Knight Riders\n",
      "Kings XI Punjab\n",
      "Chennai Super Kings\n",
      "Royal Challengers Bangalore\n",
      "Sunrisers Hyderabad\n",
      "Delhi Daredevils\n",
      "Delhi Capitals\n"
     ]
    }
   ],
   "source": [
    "ties = df[df['result'].str.lower() == 'tie']\n",
    "teams_with_ties = ties[['team1', 'team2']]\n",
    "team_names = pd.unique(teams_with_ties.values.ravel())\n",
    "print(\"Teams involved in tied matches:\")\n",
    "for team in team_names:\n",
    "    print(team)"
   ]
  },
  {
   "cell_type": "markdown",
   "id": "5f88ad6f",
   "metadata": {},
   "source": [
    "8) Find the team name who won the match by highest runs."
   ]
  },
  {
   "cell_type": "code",
   "execution_count": 9,
   "id": "913165fd",
   "metadata": {},
   "outputs": [
    {
     "name": "stdout",
     "output_type": "stream",
     "text": [
      "The team which won the match by highest runs is : Mumbai Indians\n"
     ]
    }
   ],
   "source": [
    "most_runs_win = df.loc[df[\"win_by_runs\"].idxmax()]\n",
    "team_most_runs_win = most_runs_win[\"winner\"]\n",
    "print(\"The team which won the match by highest runs is :\",team_most_runs_win)"
   ]
  },
  {
   "cell_type": "markdown",
   "id": "4894deb5",
   "metadata": {},
   "source": [
    "9) Find the team name who won the match by lowest runs."
   ]
  },
  {
   "cell_type": "code",
   "execution_count": 10,
   "id": "3c2ee180",
   "metadata": {},
   "outputs": [
    {
     "name": "stdout",
     "output_type": "stream",
     "text": [
      "Team that won the match by the lowest runs is: Mumbai Indians\n"
     ]
    }
   ],
   "source": [
    "filtered_df = df[df['win_by_runs'] > 0]\n",
    "least_runs_win = filtered_df.loc[filtered_df[\"win_by_runs\"].idxmin()]\n",
    "team_least_runs_win = least_runs_win[\"winner\"]\n",
    "print(\"Team that won the match by the lowest runs is:\",team_least_runs_win)"
   ]
  },
  {
   "cell_type": "markdown",
   "id": "8f64e2c9",
   "metadata": {},
   "source": [
    "10) Find the players who was awarded “Player of the match” more than 3 times."
   ]
  },
  {
   "cell_type": "code",
   "execution_count": 11,
   "id": "e8eaee98",
   "metadata": {},
   "outputs": [
    {
     "name": "stdout",
     "output_type": "stream",
     "text": [
      "Players awarded 'Player of the Match' more than 3 times:\n",
      "CH Gayle: 21 times\n",
      "AB de Villiers: 20 times\n",
      "RG Sharma: 17 times\n",
      "MS Dhoni: 17 times\n",
      "DA Warner: 17 times\n",
      "YK Pathan: 16 times\n",
      "SR Watson: 15 times\n",
      "SK Raina: 14 times\n",
      "G Gambhir: 13 times\n",
      "MEK Hussey: 12 times\n",
      "AM Rahane: 12 times\n",
      "V Kohli: 12 times\n",
      "V Sehwag: 11 times\n",
      "DR Smith: 11 times\n",
      "AD Russell: 11 times\n",
      "A Mishra: 11 times\n",
      "JH Kallis: 10 times\n",
      "KA Pollard: 10 times\n",
      "SE Marsh: 9 times\n",
      "AT Rayudu: 9 times\n",
      "SP Narine: 9 times\n",
      "Harbhajan Singh: 8 times\n",
      "SR Tendulkar: 8 times\n",
      "RA Jadeja: 8 times\n",
      "UT Yadav: 8 times\n",
      "Rashid Khan: 7 times\n",
      "RV Uthappa: 7 times\n",
      "AC Gilchrist: 7 times\n",
      "M Vijay: 6 times\n",
      "RR Pant: 6 times\n",
      "S Dhawan: 6 times\n",
      "SL Malinga: 6 times\n",
      "A Nehra: 6 times\n",
      "BJ Hodge: 6 times\n",
      "HH Pandya: 6 times\n",
      "SC Ganguly: 5 times\n",
      "SPD Smith: 5 times\n",
      "PA Patel: 5 times\n",
      "KC Sangakkara: 5 times\n",
      "DPMD Jayawardene: 5 times\n",
      "BB McCullum: 5 times\n",
      "JP Faulkner: 5 times\n",
      "AJ Finch: 5 times\n",
      "DW Steyn: 5 times\n",
      "Yuvraj Singh: 5 times\n",
      "SV Samson: 5 times\n",
      "GJ Maxwell: 5 times\n",
      "JJ Bumrah: 5 times\n",
      "Sandeep Sharma: 5 times\n",
      "JD Unadkat: 5 times\n",
      "JC Buttler: 5 times\n",
      "B Kumar: 5 times\n",
      "KL Rahul: 4 times\n",
      "KD Karthik: 4 times\n",
      "JP Duminy: 4 times\n",
      "MK Pandey: 4 times\n",
      "NM Coulter-Nile: 4 times\n",
      "AR Patel: 4 times\n",
      "N Rana: 4 times\n",
      "F du Plessis: 4 times\n",
      "SK Warne: 4 times\n",
      "CA Lynn: 4 times\n",
      "SS Iyer: 4 times\n",
      "ML Hayden: 4 times\n",
      "KH Pandya: 4 times\n"
     ]
    }
   ],
   "source": [
    "player_counts = df['player_of_match'].value_counts()\n",
    "players_more_than_3_awards = player_counts[player_counts > 3]\n",
    "print(\"Players awarded 'Player of the Match' more than 3 times:\")\n",
    "for player, count in players_more_than_3_awards.items():\n",
    "    print(f\"{player}: {count} times\")"
   ]
  },
  {
   "cell_type": "markdown",
   "id": "9d0b1e94",
   "metadata": {},
   "source": [
    "11) Find the player who was awarded as player of the match maximum times"
   ]
  },
  {
   "cell_type": "code",
   "execution_count": 12,
   "id": "0ffe590e",
   "metadata": {},
   "outputs": [
    {
     "name": "stdout",
     "output_type": "stream",
     "text": [
      "The player who was awarded as player of the match maximum times is:  CH Gayle\n"
     ]
    }
   ],
   "source": [
    "print(\"The player who was awarded as player of the match maximum times is: \",players_more_than_3_awards.idxmax())"
   ]
  },
  {
   "cell_type": "markdown",
   "id": "6cb860bf",
   "metadata": {},
   "source": [
    "12) Find the Venue where the team won the match by highest runs.\n"
   ]
  },
  {
   "cell_type": "code",
   "execution_count": 13,
   "id": "79ff9f13",
   "metadata": {},
   "outputs": [
    {
     "name": "stdout",
     "output_type": "stream",
     "text": [
      "The venue where the team won the match by highest runs is: Feroz Shah Kotla\n"
     ]
    }
   ],
   "source": [
    "location_most_runs_win = most_runs_win[\"venue\"]\n",
    "print(\"The venue where the team won the match by highest runs is:\",location_most_runs_win)"
   ]
  },
  {
   "cell_type": "markdown",
   "id": "b8eda4a8",
   "metadata": {},
   "source": [
    "13) Find the Venue where the team won the match by lowest runs.\n"
   ]
  },
  {
   "cell_type": "code",
   "execution_count": 14,
   "id": "ccb0074a",
   "metadata": {},
   "outputs": [
    {
     "name": "stdout",
     "output_type": "stream",
     "text": [
      "The venue where the team won the match by lowest runs is: Rajiv Gandhi International Stadium, Uppal\n"
     ]
    }
   ],
   "source": [
    "location_least_runs_win = least_runs_win[\"venue\"]\n",
    "print(\"The venue where the team won the match by lowest runs is:\",location_least_runs_win)"
   ]
  },
  {
   "cell_type": "markdown",
   "id": "f727a310",
   "metadata": {},
   "source": [
    "14) Find the Umpires who did umpiring maximum times"
   ]
  },
  {
   "cell_type": "code",
   "execution_count": 15,
   "id": "08807db1",
   "metadata": {},
   "outputs": [
    {
     "name": "stdout",
     "output_type": "stream",
     "text": [
      "The umpire who did umpiring maximum times is: S Ravi\n"
     ]
    }
   ],
   "source": [
    "combined_umpires = pd.concat([df[\"umpire1\"].dropna(),df[\"umpire2\"].dropna(),df[\"umpire3\"].dropna()])\n",
    "umpire_counts = combined_umpires.value_counts()\n",
    "max_umpire = umpire_counts.idxmax()\n",
    "print(\"The umpire who did umpiring maximum times is:\",max_umpire)"
   ]
  },
  {
   "cell_type": "markdown",
   "id": "dd1b900b",
   "metadata": {},
   "source": [
    "15) Find the Total matches played in each season"
   ]
  },
  {
   "cell_type": "code",
   "execution_count": 16,
   "id": "0f8f39f8",
   "metadata": {},
   "outputs": [
    {
     "name": "stdout",
     "output_type": "stream",
     "text": [
      "Total matches player in each season is as follows: \n"
     ]
    },
    {
     "data": {
      "text/plain": [
       "2013    76\n",
       "2012    74\n",
       "2011    73\n",
       "2010    60\n",
       "2014    60\n",
       "2016    60\n",
       "2018    60\n",
       "2019    60\n",
       "2017    59\n",
       "2015    59\n",
       "2008    58\n",
       "2009    57\n",
       "Name: season, dtype: int64"
      ]
     },
     "execution_count": 16,
     "metadata": {},
     "output_type": "execute_result"
    }
   ],
   "source": [
    "matches_per_year = df[\"season\"].value_counts()\n",
    "print(\"Total matches player in each season is as follows: \")\n",
    "matches_per_year"
   ]
  },
  {
   "cell_type": "markdown",
   "id": "20a3de47",
   "metadata": {},
   "source": [
    "16) Find the Total runs in each season\n",
    "\n",
    "19) Find the Dismissal Kind and Visualize using best fit graph\n",
    "\n",
    "20) Find the Top 10 run scorers in IPL and Visualize using best fit graph\n",
    "\n",
    "Data not given for the above questions"
   ]
  },
  {
   "cell_type": "markdown",
   "id": "41d576a3",
   "metadata": {},
   "source": [
    "17) No. of tosses won by each team"
   ]
  },
  {
   "cell_type": "code",
   "execution_count": 17,
   "id": "d0038d15",
   "metadata": {},
   "outputs": [
    {
     "name": "stdout",
     "output_type": "stream",
     "text": [
      "No of tosses won by each team is: \n"
     ]
    },
    {
     "data": {
      "text/plain": [
       "Mumbai Indians                 98\n",
       "Kolkata Knight Riders          92\n",
       "Chennai Super Kings            89\n",
       "Royal Challengers Bangalore    81\n",
       "Kings XI Punjab                81\n",
       "Delhi Daredevils               80\n",
       "Rajasthan Royals               80\n",
       "Sunrisers Hyderabad            46\n",
       "Deccan Chargers                43\n",
       "Pune Warriors                  20\n",
       "Gujarat Lions                  15\n",
       "Delhi Capitals                 10\n",
       "Kochi Tuskers Kerala            8\n",
       "Rising Pune Supergiants         7\n",
       "Rising Pune Supergiant          6\n",
       "Name: toss_winner, dtype: int64"
      ]
     },
     "execution_count": 17,
     "metadata": {},
     "output_type": "execute_result"
    }
   ],
   "source": [
    "tosses_per_team = df[\"toss_winner\"].value_counts()\n",
    "print(\"No of tosses won by each team is: \")\n",
    "tosses_per_team"
   ]
  },
  {
   "cell_type": "markdown",
   "id": "d0187e40",
   "metadata": {},
   "source": [
    "18) Visualize the Toss decision across seasons"
   ]
  },
  {
   "cell_type": "code",
   "execution_count": 18,
   "id": "ad801ec2",
   "metadata": {},
   "outputs": [
    {
     "data": {
      "image/png": "[encoded data removed]",
      "text/plain": [
       "<Figure size 864x576 with 1 Axes>"
      ]
     },
     "metadata": {
      "needs_background": "light"
     },
     "output_type": "display_data"
    }
   ],
   "source": [
    "toss_counts = df.groupby(['season', 'toss_decision']).size().unstack(fill_value=0)\n",
    "toss_counts.plot(kind='bar', figsize=(12, 8))\n",
    "plt.xlabel('Season')\n",
    "plt.ylabel('Number of Toss Decisions')\n",
    "plt.title('Toss Decision Across Seasons')\n",
    "plt.legend(title='Toss Decision')\n",
    "plt.tight_layout()  \n",
    "plt.show()"
   ]
  },
  {
   "cell_type": "markdown",
   "id": "218dc4c0",
   "metadata": {},
   "source": [
    "21) Visualize the Highest MOM award winners"
   ]
  },
  {
   "cell_type": "code",
   "execution_count": 19,
   "id": "12d65c42",
   "metadata": {},
   "outputs": [
    {
     "data": {
      "image/png": "[encoded data removed]",
      "text/plain": [
       "<Figure size 864x576 with 1 Axes>"
      ]
     },
     "metadata": {
      "needs_background": "light"
     },
     "output_type": "display_data"
    }
   ],
   "source": [
    "top_mom = player_counts.head(10)\n",
    "top_mom.plot(kind='bar', figsize=(12, 8), color='skyblue')\n",
    "plt.xlabel('Player')\n",
    "plt.ylabel('Number of MOM Awards')\n",
    "plt.title('Top 10 Players with the Most Man of the Match Awards')\n",
    "plt.tight_layout()  \n",
    "plt.show()\n"
   ]
  },
  {
   "cell_type": "markdown",
   "id": "bed895f3",
   "metadata": {},
   "source": [
    "22) Find Total Number of Played Matches by each team"
   ]
  },
  {
   "cell_type": "code",
   "execution_count": 20,
   "id": "851b6fc6",
   "metadata": {},
   "outputs": [
    {
     "name": "stdout",
     "output_type": "stream",
     "text": [
      "Total number of matches played by each team is: \n"
     ]
    },
    {
     "data": {
      "text/html": [
       "<div>\n",
       "<style scoped>\n",
       "    .dataframe tbody tr th:only-of-type {\n",
       "        vertical-align: middle;\n",
       "    }\n",
       "\n",
       "    .dataframe tbody tr th {\n",
       "        vertical-align: top;\n",
       "    }\n",
       "\n",
       "    .dataframe thead th {\n",
       "        text-align: right;\n",
       "    }\n",
       "</style>\n",
       "<table border=\"1\" class=\"dataframe\">\n",
       "  <thead>\n",
       "    <tr style=\"text-align: right;\">\n",
       "      <th></th>\n",
       "      <th>Team</th>\n",
       "      <th>Total Matches Played</th>\n",
       "    </tr>\n",
       "  </thead>\n",
       "  <tbody>\n",
       "    <tr>\n",
       "      <th>8</th>\n",
       "      <td>Mumbai Indians</td>\n",
       "      <td>187</td>\n",
       "    </tr>\n",
       "    <tr>\n",
       "      <th>13</th>\n",
       "      <td>Royal Challengers Bangalore</td>\n",
       "      <td>180</td>\n",
       "    </tr>\n",
       "    <tr>\n",
       "      <th>7</th>\n",
       "      <td>Kolkata Knight Riders</td>\n",
       "      <td>178</td>\n",
       "    </tr>\n",
       "    <tr>\n",
       "      <th>5</th>\n",
       "      <td>Kings XI Punjab</td>\n",
       "      <td>176</td>\n",
       "    </tr>\n",
       "    <tr>\n",
       "      <th>0</th>\n",
       "      <td>Chennai Super Kings</td>\n",
       "      <td>164</td>\n",
       "    </tr>\n",
       "    <tr>\n",
       "      <th>3</th>\n",
       "      <td>Delhi Daredevils</td>\n",
       "      <td>161</td>\n",
       "    </tr>\n",
       "    <tr>\n",
       "      <th>10</th>\n",
       "      <td>Rajasthan Royals</td>\n",
       "      <td>147</td>\n",
       "    </tr>\n",
       "    <tr>\n",
       "      <th>14</th>\n",
       "      <td>Sunrisers Hyderabad</td>\n",
       "      <td>108</td>\n",
       "    </tr>\n",
       "    <tr>\n",
       "      <th>1</th>\n",
       "      <td>Deccan Chargers</td>\n",
       "      <td>75</td>\n",
       "    </tr>\n",
       "    <tr>\n",
       "      <th>9</th>\n",
       "      <td>Pune Warriors</td>\n",
       "      <td>46</td>\n",
       "    </tr>\n",
       "    <tr>\n",
       "      <th>4</th>\n",
       "      <td>Gujarat Lions</td>\n",
       "      <td>30</td>\n",
       "    </tr>\n",
       "    <tr>\n",
       "      <th>2</th>\n",
       "      <td>Delhi Capitals</td>\n",
       "      <td>16</td>\n",
       "    </tr>\n",
       "    <tr>\n",
       "      <th>11</th>\n",
       "      <td>Rising Pune Supergiant</td>\n",
       "      <td>16</td>\n",
       "    </tr>\n",
       "    <tr>\n",
       "      <th>6</th>\n",
       "      <td>Kochi Tuskers Kerala</td>\n",
       "      <td>14</td>\n",
       "    </tr>\n",
       "    <tr>\n",
       "      <th>12</th>\n",
       "      <td>Rising Pune Supergiants</td>\n",
       "      <td>14</td>\n",
       "    </tr>\n",
       "  </tbody>\n",
       "</table>\n",
       "</div>"
      ],
      "text/plain": [
       "                           Team  Total Matches Played\n",
       "8                Mumbai Indians                   187\n",
       "13  Royal Challengers Bangalore                   180\n",
       "7         Kolkata Knight Riders                   178\n",
       "5               Kings XI Punjab                   176\n",
       "0           Chennai Super Kings                   164\n",
       "3              Delhi Daredevils                   161\n",
       "10             Rajasthan Royals                   147\n",
       "14          Sunrisers Hyderabad                   108\n",
       "1               Deccan Chargers                    75\n",
       "9                 Pune Warriors                    46\n",
       "4                 Gujarat Lions                    30\n",
       "2                Delhi Capitals                    16\n",
       "11       Rising Pune Supergiant                    16\n",
       "6          Kochi Tuskers Kerala                    14\n",
       "12      Rising Pune Supergiants                    14"
      ]
     },
     "execution_count": 20,
     "metadata": {},
     "output_type": "execute_result"
    }
   ],
   "source": [
    "team1_counts = df['team1'].value_counts()\n",
    "team2_counts = df['team2'].value_counts()\n",
    "total_matches_played = team1_counts.add(team2_counts, fill_value=0)\n",
    "total_matches_played_df = total_matches_played.reset_index()\n",
    "total_matches_played_df.columns = ['Team', 'Total Matches Played']\n",
    "total_matches_played_df = total_matches_played_df.sort_values(by='Total Matches Played', ascending=False)\n",
    "print(\"Total number of matches played by each team is: \")\n",
    "total_matches_played_df"
   ]
  },
  {
   "cell_type": "markdown",
   "id": "e698e037",
   "metadata": {},
   "source": [
    "23)Compare Total Played Matches vs Winning Matches vs Win Rate"
   ]
  },
  {
   "cell_type": "code",
   "execution_count": 21,
   "id": "b49dbc5f",
   "metadata": {},
   "outputs": [
    {
     "data": {
      "text/html": [
       "<div>\n",
       "<style scoped>\n",
       "    .dataframe tbody tr th:only-of-type {\n",
       "        vertical-align: middle;\n",
       "    }\n",
       "\n",
       "    .dataframe tbody tr th {\n",
       "        vertical-align: top;\n",
       "    }\n",
       "\n",
       "    .dataframe thead th {\n",
       "        text-align: right;\n",
       "    }\n",
       "</style>\n",
       "<table border=\"1\" class=\"dataframe\">\n",
       "  <thead>\n",
       "    <tr style=\"text-align: right;\">\n",
       "      <th></th>\n",
       "      <th>Team</th>\n",
       "      <th>Total Matches Played</th>\n",
       "      <th>Winning Matches</th>\n",
       "      <th>Win Rate (%)</th>\n",
       "    </tr>\n",
       "  </thead>\n",
       "  <tbody>\n",
       "    <tr>\n",
       "      <th>2</th>\n",
       "      <td>Delhi Capitals</td>\n",
       "      <td>16</td>\n",
       "      <td>10</td>\n",
       "      <td>62.500000</td>\n",
       "    </tr>\n",
       "    <tr>\n",
       "      <th>11</th>\n",
       "      <td>Rising Pune Supergiant</td>\n",
       "      <td>16</td>\n",
       "      <td>10</td>\n",
       "      <td>62.500000</td>\n",
       "    </tr>\n",
       "    <tr>\n",
       "      <th>0</th>\n",
       "      <td>Chennai Super Kings</td>\n",
       "      <td>164</td>\n",
       "      <td>100</td>\n",
       "      <td>60.975610</td>\n",
       "    </tr>\n",
       "    <tr>\n",
       "      <th>8</th>\n",
       "      <td>Mumbai Indians</td>\n",
       "      <td>187</td>\n",
       "      <td>109</td>\n",
       "      <td>58.288770</td>\n",
       "    </tr>\n",
       "    <tr>\n",
       "      <th>14</th>\n",
       "      <td>Sunrisers Hyderabad</td>\n",
       "      <td>108</td>\n",
       "      <td>58</td>\n",
       "      <td>53.703704</td>\n",
       "    </tr>\n",
       "    <tr>\n",
       "      <th>7</th>\n",
       "      <td>Kolkata Knight Riders</td>\n",
       "      <td>178</td>\n",
       "      <td>92</td>\n",
       "      <td>51.685393</td>\n",
       "    </tr>\n",
       "    <tr>\n",
       "      <th>10</th>\n",
       "      <td>Rajasthan Royals</td>\n",
       "      <td>147</td>\n",
       "      <td>75</td>\n",
       "      <td>51.020408</td>\n",
       "    </tr>\n",
       "    <tr>\n",
       "      <th>13</th>\n",
       "      <td>Royal Challengers Bangalore</td>\n",
       "      <td>180</td>\n",
       "      <td>84</td>\n",
       "      <td>46.666667</td>\n",
       "    </tr>\n",
       "    <tr>\n",
       "      <th>5</th>\n",
       "      <td>Kings XI Punjab</td>\n",
       "      <td>176</td>\n",
       "      <td>82</td>\n",
       "      <td>46.590909</td>\n",
       "    </tr>\n",
       "    <tr>\n",
       "      <th>4</th>\n",
       "      <td>Gujarat Lions</td>\n",
       "      <td>30</td>\n",
       "      <td>13</td>\n",
       "      <td>43.333333</td>\n",
       "    </tr>\n",
       "    <tr>\n",
       "      <th>6</th>\n",
       "      <td>Kochi Tuskers Kerala</td>\n",
       "      <td>14</td>\n",
       "      <td>6</td>\n",
       "      <td>42.857143</td>\n",
       "    </tr>\n",
       "    <tr>\n",
       "      <th>3</th>\n",
       "      <td>Delhi Daredevils</td>\n",
       "      <td>161</td>\n",
       "      <td>67</td>\n",
       "      <td>41.614907</td>\n",
       "    </tr>\n",
       "    <tr>\n",
       "      <th>1</th>\n",
       "      <td>Deccan Chargers</td>\n",
       "      <td>75</td>\n",
       "      <td>29</td>\n",
       "      <td>38.666667</td>\n",
       "    </tr>\n",
       "    <tr>\n",
       "      <th>12</th>\n",
       "      <td>Rising Pune Supergiants</td>\n",
       "      <td>14</td>\n",
       "      <td>5</td>\n",
       "      <td>35.714286</td>\n",
       "    </tr>\n",
       "    <tr>\n",
       "      <th>9</th>\n",
       "      <td>Pune Warriors</td>\n",
       "      <td>46</td>\n",
       "      <td>12</td>\n",
       "      <td>26.086957</td>\n",
       "    </tr>\n",
       "  </tbody>\n",
       "</table>\n",
       "</div>"
      ],
      "text/plain": [
       "                           Team  Total Matches Played  Winning Matches  \\\n",
       "2                Delhi Capitals                    16               10   \n",
       "11       Rising Pune Supergiant                    16               10   \n",
       "0           Chennai Super Kings                   164              100   \n",
       "8                Mumbai Indians                   187              109   \n",
       "14          Sunrisers Hyderabad                   108               58   \n",
       "7         Kolkata Knight Riders                   178               92   \n",
       "10             Rajasthan Royals                   147               75   \n",
       "13  Royal Challengers Bangalore                   180               84   \n",
       "5               Kings XI Punjab                   176               82   \n",
       "4                 Gujarat Lions                    30               13   \n",
       "6          Kochi Tuskers Kerala                    14                6   \n",
       "3              Delhi Daredevils                   161               67   \n",
       "1               Deccan Chargers                    75               29   \n",
       "12      Rising Pune Supergiants                    14                5   \n",
       "9                 Pune Warriors                    46               12   \n",
       "\n",
       "    Win Rate (%)  \n",
       "2      62.500000  \n",
       "11     62.500000  \n",
       "0      60.975610  \n",
       "8      58.288770  \n",
       "14     53.703704  \n",
       "7      51.685393  \n",
       "10     51.020408  \n",
       "13     46.666667  \n",
       "5      46.590909  \n",
       "4      43.333333  \n",
       "6      42.857143  \n",
       "3      41.614907  \n",
       "1      38.666667  \n",
       "12     35.714286  \n",
       "9      26.086957  "
      ]
     },
     "execution_count": 21,
     "metadata": {},
     "output_type": "execute_result"
    }
   ],
   "source": [
    "winning_matches = df['winner'].value_counts()\n",
    "win_rate = winning_matches.divide(total_matches_played, fill_value=0) * 100\n",
    "results_df = pd.DataFrame({\n",
    "    'Total Matches Played': total_matches_played,\n",
    "    'Winning Matches': winning_matches,\n",
    "    'Win Rate (%)': win_rate\n",
    "}).reset_index()\n",
    "results_df.columns = ['Team', 'Total Matches Played', 'Winning Matches', 'Win Rate (%)']\n",
    "results_df = results_df.fillna(0)\n",
    "results_df = results_df.sort_values(by='Win Rate (%)', ascending=False)\n",
    "results_df"
   ]
  },
  {
   "cell_type": "markdown",
   "id": "e7680e0a",
   "metadata": {},
   "source": [
    "24) Find the Distribution of Won the Matches"
   ]
  },
  {
   "cell_type": "code",
   "execution_count": 22,
   "id": "8d514555",
   "metadata": {},
   "outputs": [
    {
     "name": "stdout",
     "output_type": "stream",
     "text": [
      "Distribution of won matches is: \n"
     ]
    },
    {
     "data": {
      "image/png": "[encoded data removed]",
      "text/plain": [
       "<Figure size 864x576 with 1 Axes>"
      ]
     },
     "metadata": {
      "needs_background": "light"
     },
     "output_type": "display_data"
    }
   ],
   "source": [
    "win_counts = df['winner'].value_counts()\n",
    "plt.figure(figsize=(12, 8))\n",
    "win_counts.plot(kind='bar', color='skyblue')\n",
    "plt.xlabel('Team')\n",
    "plt.ylabel('Number of Matches Won')\n",
    "plt.title('Distribution of Matches Won by Each Team')\n",
    "plt.tight_layout() \n",
    "print(\"Distribution of won matches is: \")\n",
    "plt.show()"
   ]
  },
  {
   "cell_type": "markdown",
   "id": "7f04d619",
   "metadata": {},
   "source": [
    "25)Ratio between Total Matches and Win Matches"
   ]
  },
  {
   "cell_type": "code",
   "execution_count": 23,
   "id": "42f3f71f",
   "metadata": {},
   "outputs": [
    {
     "name": "stdout",
     "output_type": "stream",
     "text": [
      "Ratio between total matches and matches won is: \n"
     ]
    },
    {
     "data": {
      "text/html": [
       "<div>\n",
       "<style scoped>\n",
       "    .dataframe tbody tr th:only-of-type {\n",
       "        vertical-align: middle;\n",
       "    }\n",
       "\n",
       "    .dataframe tbody tr th {\n",
       "        vertical-align: top;\n",
       "    }\n",
       "\n",
       "    .dataframe thead th {\n",
       "        text-align: right;\n",
       "    }\n",
       "</style>\n",
       "<table border=\"1\" class=\"dataframe\">\n",
       "  <thead>\n",
       "    <tr style=\"text-align: right;\">\n",
       "      <th></th>\n",
       "      <th>Team</th>\n",
       "      <th>Total Matches Played</th>\n",
       "      <th>Winning Matches</th>\n",
       "      <th>Ratio (Total Matches / Winning Matches)</th>\n",
       "    </tr>\n",
       "  </thead>\n",
       "  <tbody>\n",
       "    <tr>\n",
       "      <th>9</th>\n",
       "      <td>Pune Warriors</td>\n",
       "      <td>46</td>\n",
       "      <td>12</td>\n",
       "      <td>3.833333</td>\n",
       "    </tr>\n",
       "    <tr>\n",
       "      <th>12</th>\n",
       "      <td>Rising Pune Supergiants</td>\n",
       "      <td>14</td>\n",
       "      <td>5</td>\n",
       "      <td>2.800000</td>\n",
       "    </tr>\n",
       "    <tr>\n",
       "      <th>1</th>\n",
       "      <td>Deccan Chargers</td>\n",
       "      <td>75</td>\n",
       "      <td>29</td>\n",
       "      <td>2.586207</td>\n",
       "    </tr>\n",
       "    <tr>\n",
       "      <th>3</th>\n",
       "      <td>Delhi Daredevils</td>\n",
       "      <td>161</td>\n",
       "      <td>67</td>\n",
       "      <td>2.402985</td>\n",
       "    </tr>\n",
       "    <tr>\n",
       "      <th>6</th>\n",
       "      <td>Kochi Tuskers Kerala</td>\n",
       "      <td>14</td>\n",
       "      <td>6</td>\n",
       "      <td>2.333333</td>\n",
       "    </tr>\n",
       "    <tr>\n",
       "      <th>4</th>\n",
       "      <td>Gujarat Lions</td>\n",
       "      <td>30</td>\n",
       "      <td>13</td>\n",
       "      <td>2.307692</td>\n",
       "    </tr>\n",
       "    <tr>\n",
       "      <th>5</th>\n",
       "      <td>Kings XI Punjab</td>\n",
       "      <td>176</td>\n",
       "      <td>82</td>\n",
       "      <td>2.146341</td>\n",
       "    </tr>\n",
       "    <tr>\n",
       "      <th>13</th>\n",
       "      <td>Royal Challengers Bangalore</td>\n",
       "      <td>180</td>\n",
       "      <td>84</td>\n",
       "      <td>2.142857</td>\n",
       "    </tr>\n",
       "    <tr>\n",
       "      <th>10</th>\n",
       "      <td>Rajasthan Royals</td>\n",
       "      <td>147</td>\n",
       "      <td>75</td>\n",
       "      <td>1.960000</td>\n",
       "    </tr>\n",
       "    <tr>\n",
       "      <th>7</th>\n",
       "      <td>Kolkata Knight Riders</td>\n",
       "      <td>178</td>\n",
       "      <td>92</td>\n",
       "      <td>1.934783</td>\n",
       "    </tr>\n",
       "    <tr>\n",
       "      <th>14</th>\n",
       "      <td>Sunrisers Hyderabad</td>\n",
       "      <td>108</td>\n",
       "      <td>58</td>\n",
       "      <td>1.862069</td>\n",
       "    </tr>\n",
       "    <tr>\n",
       "      <th>8</th>\n",
       "      <td>Mumbai Indians</td>\n",
       "      <td>187</td>\n",
       "      <td>109</td>\n",
       "      <td>1.715596</td>\n",
       "    </tr>\n",
       "    <tr>\n",
       "      <th>0</th>\n",
       "      <td>Chennai Super Kings</td>\n",
       "      <td>164</td>\n",
       "      <td>100</td>\n",
       "      <td>1.640000</td>\n",
       "    </tr>\n",
       "    <tr>\n",
       "      <th>2</th>\n",
       "      <td>Delhi Capitals</td>\n",
       "      <td>16</td>\n",
       "      <td>10</td>\n",
       "      <td>1.600000</td>\n",
       "    </tr>\n",
       "    <tr>\n",
       "      <th>11</th>\n",
       "      <td>Rising Pune Supergiant</td>\n",
       "      <td>16</td>\n",
       "      <td>10</td>\n",
       "      <td>1.600000</td>\n",
       "    </tr>\n",
       "  </tbody>\n",
       "</table>\n",
       "</div>"
      ],
      "text/plain": [
       "                           Team  Total Matches Played  Winning Matches  \\\n",
       "9                 Pune Warriors                    46               12   \n",
       "12      Rising Pune Supergiants                    14                5   \n",
       "1               Deccan Chargers                    75               29   \n",
       "3              Delhi Daredevils                   161               67   \n",
       "6          Kochi Tuskers Kerala                    14                6   \n",
       "4                 Gujarat Lions                    30               13   \n",
       "5               Kings XI Punjab                   176               82   \n",
       "13  Royal Challengers Bangalore                   180               84   \n",
       "10             Rajasthan Royals                   147               75   \n",
       "7         Kolkata Knight Riders                   178               92   \n",
       "14          Sunrisers Hyderabad                   108               58   \n",
       "8                Mumbai Indians                   187              109   \n",
       "0           Chennai Super Kings                   164              100   \n",
       "2                Delhi Capitals                    16               10   \n",
       "11       Rising Pune Supergiant                    16               10   \n",
       "\n",
       "    Ratio (Total Matches / Winning Matches)  \n",
       "9                                  3.833333  \n",
       "12                                 2.800000  \n",
       "1                                  2.586207  \n",
       "3                                  2.402985  \n",
       "6                                  2.333333  \n",
       "4                                  2.307692  \n",
       "5                                  2.146341  \n",
       "13                                 2.142857  \n",
       "10                                 1.960000  \n",
       "7                                  1.934783  \n",
       "14                                 1.862069  \n",
       "8                                  1.715596  \n",
       "0                                  1.640000  \n",
       "2                                  1.600000  \n",
       "11                                 1.600000  "
      ]
     },
     "execution_count": 23,
     "metadata": {},
     "output_type": "execute_result"
    }
   ],
   "source": [
    "winning_matches = df['winner'].value_counts()\n",
    "ratio = total_matches_played.divide(winning_matches, fill_value=0)\n",
    "ratio_df = pd.DataFrame({\n",
    "    'Total Matches Played': total_matches_played,\n",
    "    'Winning Matches': winning_matches,\n",
    "    'Ratio (Total Matches / Winning Matches)': ratio\n",
    "}).reset_index()\n",
    "ratio_df.columns = ['Team', 'Total Matches Played', 'Winning Matches', 'Ratio (Total Matches / Winning Matches)']\n",
    "ratio_df = ratio_df.fillna(0)\n",
    "ratio_df = ratio_df.sort_values(by='Ratio (Total Matches / Winning Matches)', ascending=False)\n",
    "print(\"Ratio between total matches and matches won is: \")\n",
    "ratio_df"
   ]
  },
  {
   "cell_type": "markdown",
   "id": "5711fa4a",
   "metadata": {},
   "source": [
    "26) What is the choice of each team after winning the toss?"
   ]
  },
  {
   "cell_type": "code",
   "execution_count": 24,
   "id": "36194c7f",
   "metadata": {},
   "outputs": [
    {
     "name": "stdout",
     "output_type": "stream",
     "text": [
      "Choice of each team after winning the toss is: \n"
     ]
    },
    {
     "data": {
      "text/html": [
       "<div>\n",
       "<style scoped>\n",
       "    .dataframe tbody tr th:only-of-type {\n",
       "        vertical-align: middle;\n",
       "    }\n",
       "\n",
       "    .dataframe tbody tr th {\n",
       "        vertical-align: top;\n",
       "    }\n",
       "\n",
       "    .dataframe thead th {\n",
       "        text-align: right;\n",
       "    }\n",
       "</style>\n",
       "<table border=\"1\" class=\"dataframe\">\n",
       "  <thead>\n",
       "    <tr style=\"text-align: right;\">\n",
       "      <th>toss_decision</th>\n",
       "      <th>bat</th>\n",
       "      <th>field</th>\n",
       "    </tr>\n",
       "    <tr>\n",
       "      <th>toss_winner</th>\n",
       "      <th></th>\n",
       "      <th></th>\n",
       "    </tr>\n",
       "  </thead>\n",
       "  <tbody>\n",
       "    <tr>\n",
       "      <th>Chennai Super Kings</th>\n",
       "      <td>48</td>\n",
       "      <td>41</td>\n",
       "    </tr>\n",
       "    <tr>\n",
       "      <th>Deccan Chargers</th>\n",
       "      <td>24</td>\n",
       "      <td>19</td>\n",
       "    </tr>\n",
       "    <tr>\n",
       "      <th>Delhi Capitals</th>\n",
       "      <td>2</td>\n",
       "      <td>8</td>\n",
       "    </tr>\n",
       "    <tr>\n",
       "      <th>Delhi Daredevils</th>\n",
       "      <td>29</td>\n",
       "      <td>51</td>\n",
       "    </tr>\n",
       "    <tr>\n",
       "      <th>Gujarat Lions</th>\n",
       "      <td>1</td>\n",
       "      <td>14</td>\n",
       "    </tr>\n",
       "    <tr>\n",
       "      <th>Kings XI Punjab</th>\n",
       "      <td>26</td>\n",
       "      <td>55</td>\n",
       "    </tr>\n",
       "    <tr>\n",
       "      <th>Kochi Tuskers Kerala</th>\n",
       "      <td>3</td>\n",
       "      <td>5</td>\n",
       "    </tr>\n",
       "    <tr>\n",
       "      <th>Kolkata Knight Riders</th>\n",
       "      <td>30</td>\n",
       "      <td>62</td>\n",
       "    </tr>\n",
       "    <tr>\n",
       "      <th>Mumbai Indians</th>\n",
       "      <td>44</td>\n",
       "      <td>54</td>\n",
       "    </tr>\n",
       "    <tr>\n",
       "      <th>Pune Warriors</th>\n",
       "      <td>11</td>\n",
       "      <td>9</td>\n",
       "    </tr>\n",
       "    <tr>\n",
       "      <th>Rajasthan Royals</th>\n",
       "      <td>32</td>\n",
       "      <td>48</td>\n",
       "    </tr>\n",
       "    <tr>\n",
       "      <th>Rising Pune Supergiant</th>\n",
       "      <td>0</td>\n",
       "      <td>6</td>\n",
       "    </tr>\n",
       "    <tr>\n",
       "      <th>Rising Pune Supergiants</th>\n",
       "      <td>3</td>\n",
       "      <td>4</td>\n",
       "    </tr>\n",
       "    <tr>\n",
       "      <th>Royal Challengers Bangalore</th>\n",
       "      <td>20</td>\n",
       "      <td>61</td>\n",
       "    </tr>\n",
       "    <tr>\n",
       "      <th>Sunrisers Hyderabad</th>\n",
       "      <td>20</td>\n",
       "      <td>26</td>\n",
       "    </tr>\n",
       "  </tbody>\n",
       "</table>\n",
       "</div>"
      ],
      "text/plain": [
       "toss_decision                bat  field\n",
       "toss_winner                            \n",
       "Chennai Super Kings           48     41\n",
       "Deccan Chargers               24     19\n",
       "Delhi Capitals                 2      8\n",
       "Delhi Daredevils              29     51\n",
       "Gujarat Lions                  1     14\n",
       "Kings XI Punjab               26     55\n",
       "Kochi Tuskers Kerala           3      5\n",
       "Kolkata Knight Riders         30     62\n",
       "Mumbai Indians                44     54\n",
       "Pune Warriors                 11      9\n",
       "Rajasthan Royals              32     48\n",
       "Rising Pune Supergiant         0      6\n",
       "Rising Pune Supergiants        3      4\n",
       "Royal Challengers Bangalore   20     61\n",
       "Sunrisers Hyderabad           20     26"
      ]
     },
     "execution_count": 24,
     "metadata": {},
     "output_type": "execute_result"
    }
   ],
   "source": [
    "crosstab = pd.crosstab(df[\"toss_winner\"],df[\"toss_decision\"])\n",
    "print(\"Choice of each team after winning the toss is: \")\n",
    "crosstab"
   ]
  }
 ],
 "metadata": {
  "kernelspec": {
   "display_name": "Python 3 (ipykernel)",
   "language": "python",
   "name": "python3"
  },
  "language_info": {
   "codemirror_mode": {
    "name": "ipython",
    "version": 3
   },
   "file_extension": ".py",
   "mimetype": "text/x-python",
   "name": "python",
   "nbconvert_exporter": "python",
   "pygments_lexer": "ipython3",
   "version": "3.9.12"
  }
 },
 "nbformat": 4,
 "nbformat_minor": 5
}

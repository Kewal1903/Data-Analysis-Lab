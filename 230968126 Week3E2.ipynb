{
 "cells": [
  {
   "cell_type": "markdown",
   "id": "97e584c3",
   "metadata": {},
   "source": [
    "# 230968126 Week3 Exercise 2"
   ]
  },
  {
   "cell_type": "markdown",
   "id": "4294d4cc",
   "metadata": {},
   "source": [
    "Name :- Kewal Thacker, Section A, Batch 1"
   ]
  },
  {
   "cell_type": "markdown",
   "id": "2e0c8750",
   "metadata": {},
   "source": [
    "EXERCISE 2: Descriptive Analytics and Visualization \n",
    "The data file bollywood.csv contains box office collection and social media promotion \n",
    "information about movies released in 2013−2015 period"
   ]
  },
  {
   "cell_type": "code",
   "execution_count": 2,
   "id": "dab4168f",
   "metadata": {},
   "outputs": [
    {
     "data": {
      "text/html": [
       "<div>\n",
       "<style scoped>\n",
       "    .dataframe tbody tr th:only-of-type {\n",
       "        vertical-align: middle;\n",
       "    }\n",
       "\n",
       "    .dataframe tbody tr th {\n",
       "        vertical-align: top;\n",
       "    }\n",
       "\n",
       "    .dataframe thead th {\n",
       "        text-align: right;\n",
       "    }\n",
       "</style>\n",
       "<table border=\"1\" class=\"dataframe\">\n",
       "  <thead>\n",
       "    <tr style=\"text-align: right;\">\n",
       "      <th></th>\n",
       "      <th>SlNo</th>\n",
       "      <th>Release Date</th>\n",
       "      <th>MovieName</th>\n",
       "      <th>ReleaseTime</th>\n",
       "      <th>Genre</th>\n",
       "      <th>Budget</th>\n",
       "      <th>BoxOfficeCollection</th>\n",
       "      <th>YoutubeViews</th>\n",
       "      <th>YoutubeLikes</th>\n",
       "      <th>YoutubeDislikes</th>\n",
       "    </tr>\n",
       "  </thead>\n",
       "  <tbody>\n",
       "    <tr>\n",
       "      <th>0</th>\n",
       "      <td>1</td>\n",
       "      <td>18-Apr-14</td>\n",
       "      <td>2 States</td>\n",
       "      <td>LW</td>\n",
       "      <td>Romance</td>\n",
       "      <td>36</td>\n",
       "      <td>104.00</td>\n",
       "      <td>8576361</td>\n",
       "      <td>26622</td>\n",
       "      <td>2527</td>\n",
       "    </tr>\n",
       "    <tr>\n",
       "      <th>1</th>\n",
       "      <td>2</td>\n",
       "      <td>4-Jan-13</td>\n",
       "      <td>Table No. 21</td>\n",
       "      <td>N</td>\n",
       "      <td>Thriller</td>\n",
       "      <td>10</td>\n",
       "      <td>12.00</td>\n",
       "      <td>1087320</td>\n",
       "      <td>1129</td>\n",
       "      <td>137</td>\n",
       "    </tr>\n",
       "    <tr>\n",
       "      <th>2</th>\n",
       "      <td>3</td>\n",
       "      <td>18-Jul-14</td>\n",
       "      <td>Amit Sahni Ki List</td>\n",
       "      <td>N</td>\n",
       "      <td>Comedy</td>\n",
       "      <td>10</td>\n",
       "      <td>4.00</td>\n",
       "      <td>572336</td>\n",
       "      <td>586</td>\n",
       "      <td>54</td>\n",
       "    </tr>\n",
       "    <tr>\n",
       "      <th>3</th>\n",
       "      <td>4</td>\n",
       "      <td>4-Jan-13</td>\n",
       "      <td>Rajdhani Express</td>\n",
       "      <td>N</td>\n",
       "      <td>Drama</td>\n",
       "      <td>7</td>\n",
       "      <td>0.35</td>\n",
       "      <td>42626</td>\n",
       "      <td>86</td>\n",
       "      <td>19</td>\n",
       "    </tr>\n",
       "    <tr>\n",
       "      <th>4</th>\n",
       "      <td>5</td>\n",
       "      <td>4-Jul-14</td>\n",
       "      <td>Bobby Jasoos</td>\n",
       "      <td>N</td>\n",
       "      <td>Comedy</td>\n",
       "      <td>18</td>\n",
       "      <td>10.80</td>\n",
       "      <td>3113427</td>\n",
       "      <td>4512</td>\n",
       "      <td>1224</td>\n",
       "    </tr>\n",
       "    <tr>\n",
       "      <th>...</th>\n",
       "      <td>...</td>\n",
       "      <td>...</td>\n",
       "      <td>...</td>\n",
       "      <td>...</td>\n",
       "      <td>...</td>\n",
       "      <td>...</td>\n",
       "      <td>...</td>\n",
       "      <td>...</td>\n",
       "      <td>...</td>\n",
       "      <td>...</td>\n",
       "    </tr>\n",
       "    <tr>\n",
       "      <th>144</th>\n",
       "      <td>145</td>\n",
       "      <td>27-Feb-15</td>\n",
       "      <td>Dum Laga Ke Haisha</td>\n",
       "      <td>N</td>\n",
       "      <td>Comedy</td>\n",
       "      <td>15</td>\n",
       "      <td>30.00</td>\n",
       "      <td>3250917</td>\n",
       "      <td>8185</td>\n",
       "      <td>615</td>\n",
       "    </tr>\n",
       "    <tr>\n",
       "      <th>145</th>\n",
       "      <td>146</td>\n",
       "      <td>13-Mar-15</td>\n",
       "      <td>NH10</td>\n",
       "      <td>N</td>\n",
       "      <td>Thriller</td>\n",
       "      <td>13</td>\n",
       "      <td>32.10</td>\n",
       "      <td>5592977</td>\n",
       "      <td>15464</td>\n",
       "      <td>1513</td>\n",
       "    </tr>\n",
       "    <tr>\n",
       "      <th>146</th>\n",
       "      <td>147</td>\n",
       "      <td>20-Mar-15</td>\n",
       "      <td>Dilliwali Zaalim Girlfriend</td>\n",
       "      <td>N</td>\n",
       "      <td>Comedy</td>\n",
       "      <td>32</td>\n",
       "      <td>12.00</td>\n",
       "      <td>2316047</td>\n",
       "      <td>4289</td>\n",
       "      <td>807</td>\n",
       "    </tr>\n",
       "    <tr>\n",
       "      <th>147</th>\n",
       "      <td>148</td>\n",
       "      <td>20-Mar-15</td>\n",
       "      <td>Hunterrr</td>\n",
       "      <td>N</td>\n",
       "      <td>Comedy</td>\n",
       "      <td>5</td>\n",
       "      <td>11.89</td>\n",
       "      <td>4674795</td>\n",
       "      <td>3706</td>\n",
       "      <td>762</td>\n",
       "    </tr>\n",
       "    <tr>\n",
       "      <th>148</th>\n",
       "      <td>149</td>\n",
       "      <td>23-May-14</td>\n",
       "      <td>Kochadaiiyaan</td>\n",
       "      <td>HS</td>\n",
       "      <td>Action</td>\n",
       "      <td>150</td>\n",
       "      <td>120.00</td>\n",
       "      <td>4740727</td>\n",
       "      <td>13466</td>\n",
       "      <td>2649</td>\n",
       "    </tr>\n",
       "  </tbody>\n",
       "</table>\n",
       "<p>149 rows × 10 columns</p>\n",
       "</div>"
      ],
      "text/plain": [
       "     SlNo Release Date                    MovieName ReleaseTime      Genre  \\\n",
       "0       1    18-Apr-14                     2 States          LW    Romance   \n",
       "1       2     4-Jan-13                 Table No. 21           N  Thriller    \n",
       "2       3    18-Jul-14           Amit Sahni Ki List           N     Comedy   \n",
       "3       4     4-Jan-13             Rajdhani Express           N     Drama    \n",
       "4       5     4-Jul-14                 Bobby Jasoos           N     Comedy   \n",
       "..    ...          ...                          ...         ...        ...   \n",
       "144   145    27-Feb-15           Dum Laga Ke Haisha           N     Comedy   \n",
       "145   146    13-Mar-15                         NH10           N   Thriller   \n",
       "146   147    20-Mar-15  Dilliwali Zaalim Girlfriend           N     Comedy   \n",
       "147   148    20-Mar-15                     Hunterrr           N     Comedy   \n",
       "148   149    23-May-14                Kochadaiiyaan          HS     Action   \n",
       "\n",
       "     Budget  BoxOfficeCollection  YoutubeViews  YoutubeLikes  YoutubeDislikes  \n",
       "0        36               104.00       8576361         26622             2527  \n",
       "1        10                12.00       1087320          1129              137  \n",
       "2        10                 4.00        572336           586               54  \n",
       "3         7                 0.35         42626            86               19  \n",
       "4        18                10.80       3113427          4512             1224  \n",
       "..      ...                  ...           ...           ...              ...  \n",
       "144      15                30.00       3250917          8185              615  \n",
       "145      13                32.10       5592977         15464             1513  \n",
       "146      32                12.00       2316047          4289              807  \n",
       "147       5                11.89       4674795          3706              762  \n",
       "148     150               120.00       4740727         13466             2649  \n",
       "\n",
       "[149 rows x 10 columns]"
      ]
     },
     "execution_count": 2,
     "metadata": {},
     "output_type": "execute_result"
    }
   ],
   "source": [
    "import pandas as pd\n",
    "import numpy as np\n",
    "import seaborn as sns\n",
    "import matplotlib.pyplot as plt\n",
    "\n",
    "bollywood = pd.read_csv(\"D:\\\\230968126\\\\Week3\\\\week_3\\\\bollywood.csv\")\n",
    "df = pd.DataFrame(bollywood)\n",
    "df"
   ]
  },
  {
   "cell_type": "markdown",
   "id": "50be1725",
   "metadata": {},
   "source": [
    "1. How many records are present in the dataset?"
   ]
  },
  {
   "cell_type": "code",
   "execution_count": 7,
   "id": "e181f955",
   "metadata": {},
   "outputs": [
    {
     "name": "stdout",
     "output_type": "stream",
     "text": [
      "Number of records present in the dataset is:  149\n"
     ]
    }
   ],
   "source": [
    "count = len(df)\n",
    "print(\"Number of records present in the dataset is: \",count)"
   ]
  },
  {
   "cell_type": "markdown",
   "id": "f5700153",
   "metadata": {},
   "source": [
    "2. How many movies got released in each genre? Sort number of releases in each genre \n",
    "in descending order."
   ]
  },
  {
   "cell_type": "code",
   "execution_count": 10,
   "id": "e4d4079c",
   "metadata": {},
   "outputs": [
    {
     "name": "stdout",
     "output_type": "stream",
     "text": [
      "Movies released by genre are as follows: \n",
      " Comedy       36\n",
      " Drama       35\n",
      "Thriller     26\n",
      "Romance      25\n",
      "Action       21\n",
      "Thriller      3\n",
      "Action        3\n",
      "Name: Genre, dtype: int64\n"
     ]
    }
   ],
   "source": [
    "genre_counts = df[\"Genre\"].value_counts()\n",
    "print(\"Movies released by genre are as follows: \\n\",genre_counts)"
   ]
  },
  {
   "cell_type": "markdown",
   "id": "fca49786",
   "metadata": {},
   "source": [
    "3. Which genre had highest number of releases? "
   ]
  },
  {
   "cell_type": "code",
   "execution_count": 15,
   "id": "5a56dce0",
   "metadata": {},
   "outputs": [
    {
     "name": "stdout",
     "output_type": "stream",
     "text": [
      "Comedy had the highest number of releases.\n"
     ]
    }
   ],
   "source": [
    "top_genre = genre_counts.idxmax()\n",
    "print(top_genre,\"had the highest number of releases.\")"
   ]
  },
  {
   "cell_type": "markdown",
   "id": "5e185e64",
   "metadata": {},
   "source": [
    "4. How many movies in each genre got released in different release times like long \n",
    "weekend, festive season, etc. (Note: Do a cross tabulation between Genre and \n",
    "ReleaseTime.)"
   ]
  },
  {
   "cell_type": "code",
   "execution_count": 82,
   "id": "4ad0335d",
   "metadata": {},
   "outputs": [
    {
     "name": "stdout",
     "output_type": "stream",
     "text": [
      "Movies released during special release times by genre: \n"
     ]
    },
    {
     "data": {
      "text/html": [
       "<div>\n",
       "<style scoped>\n",
       "    .dataframe tbody tr th:only-of-type {\n",
       "        vertical-align: middle;\n",
       "    }\n",
       "\n",
       "    .dataframe tbody tr th {\n",
       "        vertical-align: top;\n",
       "    }\n",
       "\n",
       "    .dataframe thead th {\n",
       "        text-align: right;\n",
       "    }\n",
       "</style>\n",
       "<table border=\"1\" class=\"dataframe\">\n",
       "  <thead>\n",
       "    <tr style=\"text-align: right;\">\n",
       "      <th>ReleaseTime</th>\n",
       "      <th>FS</th>\n",
       "      <th>HS</th>\n",
       "      <th>LW</th>\n",
       "    </tr>\n",
       "    <tr>\n",
       "      <th>Genre</th>\n",
       "      <th></th>\n",
       "      <th></th>\n",
       "      <th></th>\n",
       "    </tr>\n",
       "  </thead>\n",
       "  <tbody>\n",
       "    <tr>\n",
       "      <th>Drama</th>\n",
       "      <td>4</td>\n",
       "      <td>6</td>\n",
       "      <td>1</td>\n",
       "    </tr>\n",
       "    <tr>\n",
       "      <th>Action</th>\n",
       "      <td>3</td>\n",
       "      <td>3</td>\n",
       "      <td>3</td>\n",
       "    </tr>\n",
       "    <tr>\n",
       "      <th>Action</th>\n",
       "      <td>0</td>\n",
       "      <td>0</td>\n",
       "      <td>0</td>\n",
       "    </tr>\n",
       "    <tr>\n",
       "      <th>Comedy</th>\n",
       "      <td>3</td>\n",
       "      <td>5</td>\n",
       "      <td>5</td>\n",
       "    </tr>\n",
       "    <tr>\n",
       "      <th>Romance</th>\n",
       "      <td>3</td>\n",
       "      <td>3</td>\n",
       "      <td>4</td>\n",
       "    </tr>\n",
       "    <tr>\n",
       "      <th>Thriller</th>\n",
       "      <td>4</td>\n",
       "      <td>1</td>\n",
       "      <td>1</td>\n",
       "    </tr>\n",
       "    <tr>\n",
       "      <th>Thriller</th>\n",
       "      <td>0</td>\n",
       "      <td>0</td>\n",
       "      <td>1</td>\n",
       "    </tr>\n",
       "  </tbody>\n",
       "</table>\n",
       "</div>"
      ],
      "text/plain": [
       "ReleaseTime  FS  HS  LW\n",
       "Genre                  \n",
       " Drama        4   6   1\n",
       "Action        3   3   3\n",
       "Action        0   0   0\n",
       "Comedy        3   5   5\n",
       "Romance       3   3   4\n",
       "Thriller      4   1   1\n",
       "Thriller      0   0   1"
      ]
     },
     "execution_count": 82,
     "metadata": {},
     "output_type": "execute_result"
    }
   ],
   "source": [
    "crosstab = pd.crosstab(df[\"Genre\"],df[\"ReleaseTime\"])\n",
    "print(\"Movies released during special release times by genre: \")\n",
    "crosstab.iloc[:,0:3]"
   ]
  },
  {
   "cell_type": "markdown",
   "id": "8f74b504",
   "metadata": {},
   "source": [
    "5. Which month of the year, maximum number movie releases are seen? (Note: Extract a \n",
    "new column called month from ReleaseDate column.) "
   ]
  },
  {
   "cell_type": "code",
   "execution_count": 28,
   "id": "91ca7282",
   "metadata": {},
   "outputs": [
    {
     "name": "stdout",
     "output_type": "stream",
     "text": [
      "The month in which most movie releases are seen is: January\n"
     ]
    }
   ],
   "source": [
    "df['Release Date'] = pd.to_datetime(df['Release Date'])\n",
    "df[\"Month\"] = df[\"Release Date\"].dt.month\n",
    "month_counts = df['Month'].value_counts()\n",
    "top_month = month_counts.idxmax()\n",
    "month_names = {1: 'January', 2: 'February', 3: 'March', 4: 'April', 5: 'May', 6: 'June', \n",
    "                7: 'July', 8: 'August', 9: 'September', 10: 'October', 11: 'November', 12: 'December'}\n",
    "print(\"The month in which most movie releases are seen is:\",month_names.get(top_month))"
   ]
  },
  {
   "cell_type": "markdown",
   "id": "921a55b2",
   "metadata": {},
   "source": [
    "6. Which month of the year typically sees most releases of high budgeted movies, that is, \n",
    "movies with budget of 25 crore or more? "
   ]
  },
  {
   "cell_type": "code",
   "execution_count": 30,
   "id": "089277c4",
   "metadata": {},
   "outputs": [
    {
     "name": "stdout",
     "output_type": "stream",
     "text": [
      "The month in which most high budget movies are released is: February\n"
     ]
    }
   ],
   "source": [
    "high_budget_movies = df[df[\"Budget\"]>=25]\n",
    "month_counts2 = high_budget_movies[\"Month\"].value_counts()\n",
    "top_month2 = month_counts2.idxmax()\n",
    "print(\"The month in which most high budget movies are released is:\",month_names.get(top_month2))"
   ]
  },
  {
   "cell_type": "markdown",
   "id": "c040f8d8",
   "metadata": {},
   "source": [
    "7. Which are the top 10 movies with maximum return on investment (ROI)? Calculate \n",
    "return on investment (ROI) as (BoxOfficeCollection – Budget) / Budget. "
   ]
  },
  {
   "cell_type": "code",
   "execution_count": 35,
   "id": "f4c4d43a",
   "metadata": {},
   "outputs": [
    {
     "name": "stdout",
     "output_type": "stream",
     "text": [
      "Top 10 movies in terms of ROI are as follows: \n",
      " 64                    Aashiqui 2\n",
      "89                            PK\n",
      "132                  Grand Masti\n",
      "135                 The Lunchbox\n",
      "87                        Fukrey\n",
      "58                      Mary Kom\n",
      "128                       Shahid\n",
      "37     Humpty Sharma Ki Dulhania\n",
      "101           Bhaag Milkha Bhaag\n",
      "115              Chennai Express\n",
      "Name: MovieName, dtype: object\n"
     ]
    }
   ],
   "source": [
    "df[\"ROI\"] = (df[\"BoxOfficeCollection\"] - df[\"Budget\"])/df[\"Budget\"]\n",
    "top_10_movies = df.nlargest(10, \"ROI\")[\"MovieName\"]\n",
    "print(\"Top 10 movies in terms of ROI are as follows: \\n\",top_10_movies)\n"
   ]
  },
  {
   "cell_type": "markdown",
   "id": "7056a028",
   "metadata": {},
   "source": [
    "8. Do the movies have higher ROI if they get released on festive seasons or long \n",
    "weekend? Calculate the average ROI for different release times."
   ]
  },
  {
   "cell_type": "code",
   "execution_count": 38,
   "id": "64d4e3e9",
   "metadata": {},
   "outputs": [
    {
     "name": "stdout",
     "output_type": "stream",
     "text": [
      "Average ROI for movies released during Festive Season is:  0.9738532013595953\n",
      "Average ROI for movies released during Holiday Season is:  0.8508667840873723\n",
      "Average ROI for movies released during Long Weekends is:  1.1272053098737975\n",
      "Average ROI for movies released during normal times is:  0.6577216305350877\n"
     ]
    }
   ],
   "source": [
    "average_ROI = df.groupby(\"ReleaseTime\")[\"ROI\"].mean()\n",
    "print(\"Average ROI for movies released during Festive Season is: \",average_ROI[0])\n",
    "print(\"Average ROI for movies released during Holiday Season is: \",average_ROI[1])\n",
    "print(\"Average ROI for movies released during Long Weekends is: \",average_ROI[2])\n",
    "print(\"Average ROI for movies released during normal times is: \",average_ROI[3])"
   ]
  },
  {
   "cell_type": "markdown",
   "id": "19eafece",
   "metadata": {},
   "source": [
    "Hence movies have higher ROIs if they are released on long weekends or during festive seasons."
   ]
  },
  {
   "cell_type": "markdown",
   "id": "24a238cd",
   "metadata": {},
   "source": [
    "9. Is there a correlation between box office collection and YouTube likes? Is the \n",
    "correlation positive or negative? "
   ]
  },
  {
   "cell_type": "code",
   "execution_count": 40,
   "id": "65a331f6",
   "metadata": {},
   "outputs": [
    {
     "name": "stdout",
     "output_type": "stream",
     "text": [
      "Yes, there is a positive correlation between Box Office collection and YouTube Likes.\n"
     ]
    },
    {
     "data": {
      "text/plain": [
       "0.6825165877731297"
      ]
     },
     "execution_count": 40,
     "metadata": {},
     "output_type": "execute_result"
    }
   ],
   "source": [
    "correlation = df[\"BoxOfficeCollection\"].corr(df[\"YoutubeLikes\"])\n",
    "if correlation>0:\n",
    "    print(\"Yes, there is a positive correlation between Box Office collection and YouTube Likes.\")\n",
    "elif correlation>0:\n",
    "    print(\"Yes, there is a negative correlation between Box Office collection and YouTube Likes.\")\n",
    "else:\n",
    "    print(\"There is no correlation between Box Office collection and YouTube Likes.\")\n",
    "correlation"
   ]
  },
  {
   "cell_type": "markdown",
   "id": "a9ea4f80",
   "metadata": {},
   "source": [
    "10. Which genre of movies typically sees more YouTube likes? Draw boxplots for each \n",
    "genre of movies to compare."
   ]
  },
  {
   "cell_type": "code",
   "execution_count": 42,
   "id": "224de321",
   "metadata": {},
   "outputs": [
    {
     "data": {
      "image/png": "[encoded data removed]",
      "text/plain": [
       "<Figure size 432x288 with 1 Axes>"
      ]
     },
     "metadata": {
      "needs_background": "light"
     },
     "output_type": "display_data"
    }
   ],
   "source": [
    "sns.boxplot(x=df[\"Genre\"], y=df[\"YoutubeLikes\"])\n",
    "plt.show()"
   ]
  },
  {
   "cell_type": "markdown",
   "id": "9ee60233",
   "metadata": {},
   "source": [
    "Hence action movies typically see more YouTube likes."
   ]
  },
  {
   "cell_type": "markdown",
   "id": "6017d0bf",
   "metadata": {},
   "source": [
    "11. Which of the variables among Budget, BoxOfficeCollection, YoutubeView, \n",
    "YoutubeLikes, YoutubeDislikes are highly correlated? Note: Draw pair plot or \n",
    "heatmap."
   ]
  },
  {
   "cell_type": "code",
   "execution_count": 89,
   "id": "e36efac7",
   "metadata": {},
   "outputs": [
    {
     "data": {
      "image/png": "[encoded data removed]",
      "text/plain": [
       "<Figure size 720x576 with 2 Axes>"
      ]
     },
     "metadata": {
      "needs_background": "light"
     },
     "output_type": "display_data"
    }
   ],
   "source": [
    "correlation = df[[\"Budget\",\"BoxOfficeCollection\",\"YoutubeViews\",\"YoutubeLikes\",\"YoutubeDislikes\"]].corr()\n",
    "plt.figure(figsize=(10,8))\n",
    "sns.heatmap(correlation,vmin=-1,vmax=1,cmap = \"coolwarm\",annot=True)\n",
    "plt.show()"
   ]
  },
  {
   "cell_type": "markdown",
   "id": "3f316dcf",
   "metadata": {},
   "source": [
    "12. During 2013−2015 period, highlight the genre of movies and their box office \n",
    "collection? Visualize with best fit graph."
   ]
  },
  {
   "cell_type": "code",
   "execution_count": 52,
   "id": "89997d43",
   "metadata": {},
   "outputs": [
    {
     "data": {
      "image/png": "[encoded data removed]",
      "text/plain": [
       "<Figure size 432x288 with 1 Axes>"
      ]
     },
     "metadata": {
      "needs_background": "light"
     },
     "output_type": "display_data"
    }
   ],
   "source": [
    "sns.barplot(x=\"Genre\",y=\"BoxOfficeCollection\",data=df)\n",
    "plt.show()"
   ]
  },
  {
   "cell_type": "markdown",
   "id": "90f0c2db",
   "metadata": {},
   "source": [
    "13. Visualize the Budget and Box office collection based on Genre."
   ]
  },
  {
   "cell_type": "code",
   "execution_count": 55,
   "id": "6b6a3af2",
   "metadata": {},
   "outputs": [
    {
     "data": {
      "image/png": "[encoded data removed]",
      "text/plain": [
       "<Figure size 432x288 with 1 Axes>"
      ]
     },
     "metadata": {
      "needs_background": "light"
     },
     "output_type": "display_data"
    }
   ],
   "source": [
    "sns.scatterplot(x=\"Budget\",y=\"BoxOfficeCollection\",hue=\"Genre\",data=df)\n",
    "plt.show()"
   ]
  },
  {
   "cell_type": "markdown",
   "id": "05c0c15e",
   "metadata": {},
   "source": [
    "14. Find the distribution of movie budget for every Genre. "
   ]
  },
  {
   "cell_type": "code",
   "execution_count": 56,
   "id": "48235c29",
   "metadata": {},
   "outputs": [
    {
     "data": {
      "image/png": "[encoded data removed]",
      "text/plain": [
       "<Figure size 432x288 with 1 Axes>"
      ]
     },
     "metadata": {
      "needs_background": "light"
     },
     "output_type": "display_data"
    }
   ],
   "source": [
    "sns.boxplot(x=\"Genre\",y=\"Budget\",data=df)\n",
    "plt.show()"
   ]
  },
  {
   "cell_type": "markdown",
   "id": "54d4be59",
   "metadata": {},
   "source": [
    "15. During 2013−2015, find the number of movies released in every year. Also, visualize \n",
    "with best fit graph"
   ]
  },
  {
   "cell_type": "code",
   "execution_count": 74,
   "id": "0be03d2f",
   "metadata": {},
   "outputs": [
    {
     "data": {
      "text/plain": [
       "2013    67\n",
       "2014    70\n",
       "2015    12\n",
       "Name: Release Date, dtype: int64"
      ]
     },
     "execution_count": 74,
     "metadata": {},
     "output_type": "execute_result"
    }
   ],
   "source": [
    "df_filtered = df[df['Release Date'].dt.year.between(2013, 2015)]\n",
    "movie_counts = df_filtered['Release Date'].dt.year.value_counts().sort_index()\n",
    "movie_counts_df = movie_counts.reset_index()\n",
    "movie_counts_df.columns = ['Year', 'Number of Movies']\n",
    "movie_counts"
   ]
  },
  {
   "cell_type": "code",
   "execution_count": 76,
   "id": "9357f08b",
   "metadata": {},
   "outputs": [
    {
     "data": {
      "image/png": "[encoded data removed]",
      "text/plain": [
       "<Figure size 432x288 with 1 Axes>"
      ]
     },
     "metadata": {
      "needs_background": "light"
     },
     "output_type": "display_data"
    }
   ],
   "source": [
    "sns.barplot(x = \"Year\", y = \"Number of Movies\", data = movie_counts_df)\n",
    "plt.show()"
   ]
  }
 ],
 "metadata": {
  "kernelspec": {
   "display_name": "Python 3 (ipykernel)",
   "language": "python",
   "name": "python3"
  },
  "language_info": {
   "codemirror_mode": {
    "name": "ipython",
    "version": 3
   },
   "file_extension": ".py",
   "mimetype": "text/x-python",
   "name": "python",
   "nbconvert_exporter": "python",
   "pygments_lexer": "ipython3",
   "version": "3.9.12"
  }
 },
 "nbformat": 4,
 "nbformat_minor": 5
}

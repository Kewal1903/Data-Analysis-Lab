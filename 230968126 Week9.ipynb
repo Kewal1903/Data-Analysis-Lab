{
 "cells": [
  {
   "cell_type": "markdown",
   "id": "5e9f0120",
   "metadata": {},
   "source": [
    "# 230968126 Week 9"
   ]
  },
  {
   "cell_type": "markdown",
   "id": "1c49505e",
   "metadata": {},
   "source": [
    "Name :- Kewal Thacker, Section A, Batch 1"
   ]
  },
  {
   "cell_type": "markdown",
   "id": "70d80ef2",
   "metadata": {},
   "source": [
    "EXERCISE 1: \n",
    "An online grocery store has captured amount spent per annum (in Indian rupees) by 20 customers \n",
    "on apparel and beauty and healthcare products and given in the file customerspends.csv. It contains \n",
    "the following records.\n",
    "• Customer − Customer ID\n",
    "• Apparel − Amount spent in apparel products\n",
    "• Beauty and Healthcare − Amount spent in beauty and healthcare products\n"
   ]
  },
  {
   "cell_type": "code",
   "execution_count": 1,
   "id": "03854fff",
   "metadata": {},
   "outputs": [],
   "source": [
    "import matplotlib.pyplot as plt\n",
    "import seaborn as sns\n",
    "import numpy as np\n",
    "import pandas as pd"
   ]
  },
  {
   "cell_type": "code",
   "execution_count": 2,
   "id": "869e50fb",
   "metadata": {},
   "outputs": [
    {
     "data": {
      "text/html": [
       "<div>\n",
       "<style scoped>\n",
       "    .dataframe tbody tr th:only-of-type {\n",
       "        vertical-align: middle;\n",
       "    }\n",
       "\n",
       "    .dataframe tbody tr th {\n",
       "        vertical-align: top;\n",
       "    }\n",
       "\n",
       "    .dataframe thead th {\n",
       "        text-align: right;\n",
       "    }\n",
       "</style>\n",
       "<table border=\"1\" class=\"dataframe\">\n",
       "  <thead>\n",
       "    <tr style=\"text-align: right;\">\n",
       "      <th></th>\n",
       "      <th>Customer</th>\n",
       "      <th>Apparel</th>\n",
       "      <th>Beauty and Healthcare</th>\n",
       "    </tr>\n",
       "  </thead>\n",
       "  <tbody>\n",
       "    <tr>\n",
       "      <th>0</th>\n",
       "      <td>1</td>\n",
       "      <td>21.10</td>\n",
       "      <td>0.70</td>\n",
       "    </tr>\n",
       "    <tr>\n",
       "      <th>1</th>\n",
       "      <td>2</td>\n",
       "      <td>15.23</td>\n",
       "      <td>5.50</td>\n",
       "    </tr>\n",
       "    <tr>\n",
       "      <th>2</th>\n",
       "      <td>3</td>\n",
       "      <td>5.22</td>\n",
       "      <td>18.60</td>\n",
       "    </tr>\n",
       "    <tr>\n",
       "      <th>3</th>\n",
       "      <td>4</td>\n",
       "      <td>31.10</td>\n",
       "      <td>1.80</td>\n",
       "    </tr>\n",
       "    <tr>\n",
       "      <th>4</th>\n",
       "      <td>5</td>\n",
       "      <td>6.12</td>\n",
       "      <td>21.50</td>\n",
       "    </tr>\n",
       "    <tr>\n",
       "      <th>5</th>\n",
       "      <td>6</td>\n",
       "      <td>14.50</td>\n",
       "      <td>8.20</td>\n",
       "    </tr>\n",
       "    <tr>\n",
       "      <th>6</th>\n",
       "      <td>7</td>\n",
       "      <td>8.50</td>\n",
       "      <td>16.20</td>\n",
       "    </tr>\n",
       "    <tr>\n",
       "      <th>7</th>\n",
       "      <td>8</td>\n",
       "      <td>26.50</td>\n",
       "      <td>2.20</td>\n",
       "    </tr>\n",
       "    <tr>\n",
       "      <th>8</th>\n",
       "      <td>9</td>\n",
       "      <td>4.34</td>\n",
       "      <td>17.70</td>\n",
       "    </tr>\n",
       "    <tr>\n",
       "      <th>9</th>\n",
       "      <td>10</td>\n",
       "      <td>13.75</td>\n",
       "      <td>7.30</td>\n",
       "    </tr>\n",
       "    <tr>\n",
       "      <th>10</th>\n",
       "      <td>11</td>\n",
       "      <td>5.20</td>\n",
       "      <td>16.20</td>\n",
       "    </tr>\n",
       "    <tr>\n",
       "      <th>11</th>\n",
       "      <td>12</td>\n",
       "      <td>14.20</td>\n",
       "      <td>2.90</td>\n",
       "    </tr>\n",
       "    <tr>\n",
       "      <th>12</th>\n",
       "      <td>13</td>\n",
       "      <td>4.40</td>\n",
       "      <td>19.40</td>\n",
       "    </tr>\n",
       "    <tr>\n",
       "      <th>13</th>\n",
       "      <td>14</td>\n",
       "      <td>4.25</td>\n",
       "      <td>15.50</td>\n",
       "    </tr>\n",
       "    <tr>\n",
       "      <th>14</th>\n",
       "      <td>15</td>\n",
       "      <td>22.30</td>\n",
       "      <td>0.90</td>\n",
       "    </tr>\n",
       "    <tr>\n",
       "      <th>15</th>\n",
       "      <td>16</td>\n",
       "      <td>7.90</td>\n",
       "      <td>18.80</td>\n",
       "    </tr>\n",
       "    <tr>\n",
       "      <th>16</th>\n",
       "      <td>17</td>\n",
       "      <td>13.40</td>\n",
       "      <td>4.20</td>\n",
       "    </tr>\n",
       "    <tr>\n",
       "      <th>17</th>\n",
       "      <td>18</td>\n",
       "      <td>30.60</td>\n",
       "      <td>1.90</td>\n",
       "    </tr>\n",
       "    <tr>\n",
       "      <th>18</th>\n",
       "      <td>19</td>\n",
       "      <td>14.40</td>\n",
       "      <td>6.28</td>\n",
       "    </tr>\n",
       "    <tr>\n",
       "      <th>19</th>\n",
       "      <td>20</td>\n",
       "      <td>6.25</td>\n",
       "      <td>9.98</td>\n",
       "    </tr>\n",
       "  </tbody>\n",
       "</table>\n",
       "</div>"
      ],
      "text/plain": [
       "    Customer  Apparel  Beauty and Healthcare\n",
       "0          1    21.10                   0.70\n",
       "1          2    15.23                   5.50\n",
       "2          3     5.22                  18.60\n",
       "3          4    31.10                   1.80\n",
       "4          5     6.12                  21.50\n",
       "5          6    14.50                   8.20\n",
       "6          7     8.50                  16.20\n",
       "7          8    26.50                   2.20\n",
       "8          9     4.34                  17.70\n",
       "9         10    13.75                   7.30\n",
       "10        11     5.20                  16.20\n",
       "11        12    14.20                   2.90\n",
       "12        13     4.40                  19.40\n",
       "13        14     4.25                  15.50\n",
       "14        15    22.30                   0.90\n",
       "15        16     7.90                  18.80\n",
       "16        17    13.40                   4.20\n",
       "17        18    30.60                   1.90\n",
       "18        19    14.40                   6.28\n",
       "19        20     6.25                   9.98"
      ]
     },
     "execution_count": 2,
     "metadata": {},
     "output_type": "execute_result"
    }
   ],
   "source": [
    "df = pd.read_csv(\"D:\\\\230968126_Kewal\\\\Week9\\\\customerspends.csv\")\n",
    "df"
   ]
  },
  {
   "cell_type": "markdown",
   "id": "18bdf8ad",
   "metadata": {},
   "source": [
    "1. Create a scatter plot to depict the customer spends on apparel and beauty and healthcare \n",
    "products"
   ]
  },
  {
   "cell_type": "code",
   "execution_count": 4,
   "id": "916c70a3",
   "metadata": {},
   "outputs": [
    {
     "data": {
      "image/png": "[encoded data removed]",
      "text/plain": [
       "<Figure size 720x432 with 1 Axes>"
      ]
     },
     "metadata": {
      "needs_background": "light"
     },
     "output_type": "display_data"
    }
   ],
   "source": [
    "plt.figure(figsize=(10, 6))\n",
    "plt.scatter(df['Apparel'], df['Beauty and Healthcare'], alpha=0.5)\n",
    "plt.title('Customer Spend on Apparel vs. Beauty and Healthcare Products')\n",
    "plt.xlabel('Apparel Spend')\n",
    "plt.ylabel('Beauty and Healthcare Spend')\n",
    "plt.grid(True)\n",
    "plt.show()"
   ]
  },
  {
   "cell_type": "markdown",
   "id": "52c8e4b6",
   "metadata": {},
   "source": [
    "2. Identify number of clusters existing in the dataset.\n"
   ]
  },
  {
   "cell_type": "code",
   "execution_count": 5,
   "id": "33f983ac",
   "metadata": {},
   "outputs": [
    {
     "name": "stderr",
     "output_type": "stream",
     "text": [
      "C:\\ProgramData\\Anaconda3\\lib\\site-packages\\sklearn\\cluster\\_kmeans.py:1036: UserWarning: KMeans is known to have a memory leak on Windows with MKL, when there are less chunks than available threads. You can avoid it by setting the environment variable OMP_NUM_THREADS=1.\n",
      "  warnings.warn(\n"
     ]
    },
    {
     "data": {
      "image/png": "[encoded data removed]",
      "text/plain": [
       "<Figure size 720x432 with 1 Axes>"
      ]
     },
     "metadata": {
      "needs_background": "light"
     },
     "output_type": "display_data"
    }
   ],
   "source": [
    "from sklearn.cluster import KMeans\n",
    "sse = []\n",
    "k_range = range(1, 11) \n",
    "\n",
    "for k in k_range:\n",
    "    kmeans = KMeans(n_clusters=k)\n",
    "    kmeans.fit(df[['Apparel', 'Beauty and Healthcare']])\n",
    "    sse.append(kmeans.inertia_)\n",
    "\n",
    "plt.figure(figsize=(10, 6))\n",
    "plt.plot(k_range, sse, marker='o')\n",
    "plt.title('Elbow Method for Optimal k')\n",
    "plt.xlabel('Number of Clusters')\n",
    "plt.ylabel('SSE')\n",
    "plt.grid(True)\n",
    "plt.show()"
   ]
  },
  {
   "cell_type": "markdown",
   "id": "d2fd021d",
   "metadata": {},
   "source": [
    "Hence we can infer that there are 3 main clusters in the data"
   ]
  },
  {
   "cell_type": "markdown",
   "id": "777a3970",
   "metadata": {},
   "source": [
    "3. Use dendrogram and elbow method to verify if the number of clusters suggested is same as \n",
    "clusters visible in the scatter plot in Question 1."
   ]
  },
  {
   "cell_type": "code",
   "execution_count": 6,
   "id": "15b203b8",
   "metadata": {},
   "outputs": [
    {
     "data": {
      "image/png": "[encoded data removed]",
      "text/plain": [
       "<Figure size 720x432 with 1 Axes>"
      ]
     },
     "metadata": {
      "needs_background": "light"
     },
     "output_type": "display_data"
    }
   ],
   "source": [
    "import scipy.cluster.hierarchy as sch\n",
    "\n",
    "plt.figure(figsize=(10, 6))\n",
    "dendrogram = sch.dendrogram(sch.linkage(df[['Apparel', 'Beauty and Healthcare']], method='ward'))\n",
    "plt.title('Dendrogram')\n",
    "plt.xlabel('Customers')\n",
    "plt.ylabel('Euclidean distances')\n",
    "plt.show()\n"
   ]
  },
  {
   "cell_type": "markdown",
   "id": "e3f69adf",
   "metadata": {},
   "source": [
    "4. Create the number of clusters as suggested by the elbow method using K-means algorithm."
   ]
  },
  {
   "cell_type": "code",
   "execution_count": 8,
   "id": "5a4fc548",
   "metadata": {},
   "outputs": [],
   "source": [
    "optimal_k = 3  \n",
    "\n",
    "kmeans = KMeans(n_clusters=optimal_k)\n",
    "df['cluster'] = kmeans.fit_predict(df[['Apparel', 'Beauty and Healthcare']])\n"
   ]
  },
  {
   "cell_type": "markdown",
   "id": "3180d8d5",
   "metadata": {},
   "source": [
    "5. Print the records of customers in each cluster and the cluster center of each cluster\n",
    "separately. Explain the clusters intuitively"
   ]
  },
  {
   "cell_type": "code",
   "execution_count": 9,
   "id": "8ec1a689",
   "metadata": {},
   "outputs": [
    {
     "name": "stdout",
     "output_type": "stream",
     "text": [
      "\n",
      "Cluster 0 records:\n",
      "    Customer  Apparel  Beauty and Healthcare  cluster\n",
      "2          3     5.22                  18.60        0\n",
      "4          5     6.12                  21.50        0\n",
      "6          7     8.50                  16.20        0\n",
      "8          9     4.34                  17.70        0\n",
      "10        11     5.20                  16.20        0\n",
      "12        13     4.40                  19.40        0\n",
      "13        14     4.25                  15.50        0\n",
      "15        16     7.90                  18.80        0\n",
      "19        20     6.25                   9.98        0\n",
      "\n",
      "Cluster 1 records:\n",
      "    Customer  Apparel  Beauty and Healthcare  cluster\n",
      "0          1     21.1                    0.7        1\n",
      "3          4     31.1                    1.8        1\n",
      "7          8     26.5                    2.2        1\n",
      "14        15     22.3                    0.9        1\n",
      "17        18     30.6                    1.9        1\n",
      "\n",
      "Cluster 2 records:\n",
      "    Customer  Apparel  Beauty and Healthcare  cluster\n",
      "1          2    15.23                   5.50        2\n",
      "5          6    14.50                   8.20        2\n",
      "9         10    13.75                   7.30        2\n",
      "11        12    14.20                   2.90        2\n",
      "16        17    13.40                   4.20        2\n",
      "18        19    14.40                   6.28        2\n",
      "\n",
      "Cluster Centers:\n",
      "[[ 5.79777778 17.09777778]\n",
      " [26.32        1.5       ]\n",
      " [14.24666667  5.73      ]]\n"
     ]
    }
   ],
   "source": [
    "for i in range(optimal_k):\n",
    "    print(f\"\\nCluster {i} records:\")\n",
    "    print(df[df['cluster'] == i])\n",
    "\n",
    "print(\"\\nCluster Centers:\")\n",
    "print(kmeans.cluster_centers_)\n"
   ]
  }
 ],
 "metadata": {
  "kernelspec": {
   "display_name": "Python 3 (ipykernel)",
   "language": "python",
   "name": "python3"
  },
  "language_info": {
   "codemirror_mode": {
    "name": "ipython",
    "version": 3
   },
   "file_extension": ".py",
   "mimetype": "text/x-python",
   "name": "python",
   "nbconvert_exporter": "python",
   "pygments_lexer": "ipython3",
   "version": "3.9.12"
  }
 },
 "nbformat": 4,
 "nbformat_minor": 5
}
